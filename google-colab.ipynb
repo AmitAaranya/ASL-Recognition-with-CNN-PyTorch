{
  "cells": [
    {
      "cell_type": "markdown",
      "metadata": {
        "colab_type": "text",
        "id": "view-in-github"
      },
      "source": [
        "<a href=\"https://colab.research.google.com/github/AmitAaranya/ASL-Recognition-with-Deep-Learning-PyTorch/blob/main/google-colab.ipynb\" target=\"_parent\"><img src=\"https://colab.research.google.com/assets/colab-badge.svg\" alt=\"Open In Colab\"/></a>"
      ]
    },
    {
      "cell_type": "markdown",
      "metadata": {
        "id": "s-y-mBcJqaxY"
      },
      "source": [
        "# Clone GitHub repo\n",
        "**URL:** https://github.com/AmitAaranya/ASL-Recognition-with-Deep-Learning-PyTorch"
      ]
    },
    {
      "cell_type": "code",
      "execution_count": 2,
      "metadata": {
        "colab": {
          "base_uri": "https://localhost:8080/"
        },
        "id": "EI2B9fs6dZNs",
        "outputId": "637ebb3a-3563-4692-b3d8-acb7d037ef8a"
      },
      "outputs": [
        {
          "name": "stdout",
          "output_type": "stream",
          "text": [
            "fatal: destination path './code' already exists and is not an empty directory.\n"
          ]
        }
      ],
      "source": [
        "!git clone https://github.com/AmitAaranya/ASL-Recognition-with-Deep-Learning-PyTorch.git ./code/"
      ]
    },
    {
      "cell_type": "code",
      "execution_count": 11,
      "metadata": {
        "colab": {
          "base_uri": "https://localhost:8080/"
        },
        "id": "zhpnvxWbgTRr",
        "outputId": "ef910120-35ca-453b-9728-a69775eefe98"
      },
      "outputs": [
        {
          "name": "stdout",
          "output_type": "stream",
          "text": [
            "remote: Enumerating objects: 5, done.\u001b[K\n",
            "remote: Counting objects:  20% (1/5)\u001b[K\rremote: Counting objects:  40% (2/5)\u001b[K\rremote: Counting objects:  60% (3/5)\u001b[K\rremote: Counting objects:  80% (4/5)\u001b[K\rremote: Counting objects: 100% (5/5)\u001b[K\rremote: Counting objects: 100% (5/5), done.\u001b[K\n",
            "remote: Compressing objects:  33% (1/3)\u001b[K\rremote: Compressing objects:  66% (2/3)\u001b[K\rremote: Compressing objects: 100% (3/3)\u001b[K\rremote: Compressing objects: 100% (3/3), done.\u001b[K\n",
            "remote: Total 3 (delta 1), reused 0 (delta 0), pack-reused 0\u001b[K\n",
            "Unpacking objects:  33% (1/3)\rUnpacking objects:  66% (2/3)\rUnpacking objects: 100% (3/3)\rUnpacking objects: 100% (3/3), 966 bytes | 966.00 KiB/s, done.\n",
            "From https://github.com/AmitAaranya/ASL-Recognition-with-Deep-Learning-PyTorch\n",
            "   43ef39f..606d3a7  main       -> origin/main\n",
            "Updating 43ef39f..606d3a7\n",
            "Fast-forward\n",
            " requirements.txt | 2 \u001b[32m+\u001b[m\u001b[31m-\u001b[m\n",
            " 1 file changed, 1 insertion(+), 1 deletion(-)\n"
          ]
        }
      ],
      "source": [
        "!git --git-dir=./code/.git pull"
      ]
    },
    {
      "cell_type": "code",
      "execution_count": 4,
      "metadata": {
        "id": "-BRc3NMmk0YI"
      },
      "outputs": [],
      "source": [
        "## Add the folder to system path, so we can import file directly\n",
        "import sys\n",
        "sys.path.append('/content/code')"
      ]
    },
    {
      "cell_type": "code",
      "execution_count": 13,
      "metadata": {
        "id": "TTGL6GNs0aD0"
      },
      "outputs": [],
      "source": [
        "!pip install -r code/requirements.txt > /dev/null"
      ]
    },
    {
      "cell_type": "markdown",
      "metadata": {
        "id": "28879DrVqA5c"
      },
      "source": [
        "# Load the ASL Image Data\n",
        "**URL:** https://www.kaggle.com/datasets/lexset/synthetic-asl-alphabet\n"
      ]
    },
    {
      "cell_type": "code",
      "execution_count": 6,
      "metadata": {
        "colab": {
          "base_uri": "https://localhost:8080/"
        },
        "id": "qdwPHrcNev3I",
        "outputId": "5e7d4766-1eb6-4731-903f-dae94fac47a6"
      },
      "outputs": [
        {
          "name": "stdout",
          "output_type": "stream",
          "text": [
            "/bin/bash: line 1: /root/.kaggle/kaggle.json: No such file or directory\n"
          ]
        }
      ],
      "source": [
        "!echo \"{\\\"username\\\":\\\"amitaaranya\\\",\\\"key\\\":\\\"e8845441bb41bfd733339ef7c8f50fa\\\"}\" > /root/.kaggle/kaggle.json"
      ]
    },
    {
      "cell_type": "code",
      "execution_count": 7,
      "metadata": {
        "colab": {
          "base_uri": "https://localhost:8080/"
        },
        "id": "AJGYtwHBc12L",
        "outputId": "8fb867e0-1591-4cab-bb38-49a60215cf39"
      },
      "outputs": [
        {
          "name": "stdout",
          "output_type": "stream",
          "text": [
            "Dataset URL: https://www.kaggle.com/datasets/lexset/synthetic-asl-alphabet\n",
            "License(s): copyright-authors\n",
            "Downloading synthetic-asl-alphabet.zip to /content\n",
            "100% 6.58G/6.58G [05:50<00:00, 22.2MB/s]\n",
            "100% 6.58G/6.58G [05:50<00:00, 20.1MB/s]\n"
          ]
        }
      ],
      "source": [
        "!kaggle datasets download -d lexset/synthetic-asl-alphabet"
      ]
    },
    {
      "cell_type": "code",
      "execution_count": 8,
      "metadata": {
        "id": "-I9T9ZBYi9-g"
      },
      "outputs": [],
      "source": [
        "!mkdir datasets"
      ]
    },
    {
      "cell_type": "code",
      "execution_count": 9,
      "metadata": {
        "id": "dQOIq70ShFr8"
      },
      "outputs": [],
      "source": [
        "!unzip synthetic-asl-alphabet.zip -d ./datasets/ > /dev/null"
      ]
    },
    {
      "cell_type": "markdown",
      "metadata": {
        "id": "74s_T0FUrORM"
      },
      "source": [
        "# Exploratory Data Analysis(EDA)"
      ]
    },
    {
      "cell_type": "code",
      "execution_count": 5,
      "metadata": {
        "id": "CQ2rziofjOSz"
      },
      "outputs": [],
      "source": [
        "# Imports\n",
        "import torch\n",
        "import numpy as np"
      ]
    },
    {
      "cell_type": "markdown",
      "metadata": {
        "id": "Z36Bci5RrnaY"
      },
      "source": [
        "## Load Data"
      ]
    },
    {
      "cell_type": "code",
      "execution_count": 6,
      "metadata": {
        "colab": {
          "base_uri": "https://localhost:8080/"
        },
        "id": "3DiaC0e1jfUa",
        "outputId": "d5ca2cd5-f2a6-4aac-d1c5-295bf3519b03"
      },
      "outputs": [
        {
          "name": "stdout",
          "output_type": "stream",
          "text": [
            "Train dataset count: 24300 \n",
            "Test dataset count: 2700 \n"
          ]
        }
      ],
      "source": [
        "from data_loader import load_datasets\n",
        "\n",
        "size = 100\n",
        "x_train, y_train = load_datasets(size = size)\n",
        "x_test,  y_test = load_datasets(train_or_test_folder=\"Test_Alphabet\",size = size)\n",
        "\n",
        "print(f\"Train dataset count: {len(x_train)} \\nTest dataset count: {len(x_test)} \")"
      ]
    },
    {
      "cell_type": "code",
      "execution_count": 7,
      "metadata": {
        "colab": {
          "base_uri": "https://localhost:8080/"
        },
        "id": "qET4xExw38Hh",
        "outputId": "eda73a51-b2fa-431f-88ac-9f44027d6847"
      },
      "outputs": [
        {
          "name": "stdout",
          "output_type": "stream",
          "text": [
            "cuda\n"
          ]
        }
      ],
      "source": [
        "device = torch.device(\"cuda\" if torch.cuda.is_available() else \"cpu\")\n",
        "print(device)"
      ]
    },
    {
      "cell_type": "code",
      "execution_count": 8,
      "metadata": {
        "id": "QX-Oxal_mn2K"
      },
      "outputs": [],
      "source": [
        "from data_loader import alphabet_to_num\n",
        "\n",
        "def one_hot_coding(unique_labels, data):\n",
        "    y_oh = torch.zeros(len(data),unique_labels)\n",
        "    for i, class_word in enumerate(data):\n",
        "        index = alphabet_to_num(class_word)\n",
        "        y_oh[i][index] = 1\n",
        "\n",
        "    return y_oh\n",
        "\n",
        "y_train_oh = one_hot_coding(len(np.unique(y_train)),y_train)\n",
        "y_test_oh = one_hot_coding(len(np.unique(y_train)),y_test)"
      ]
    },
    {
      "cell_type": "code",
      "execution_count": 11,
      "metadata": {
        "colab": {
          "base_uri": "https://localhost:8080/"
        },
        "id": "wUO8ydeXmrJD",
        "outputId": "15379796-d476-488d-d44a-5b2271a691cf"
      },
      "outputs": [
        {
          "data": {
            "text/plain": [
              "((24300, 3, 100, 100), (24300,))"
            ]
          },
          "execution_count": 11,
          "metadata": {},
          "output_type": "execute_result"
        }
      ],
      "source": [
        "x_train.shape,y_train.shape"
      ]
    },
    {
      "cell_type": "code",
      "execution_count": null,
      "metadata": {
        "id": "HuSCQSF4mzAL"
      },
      "outputs": [],
      "source": [
        "import torch\n",
        "import torch.nn as nn\n",
        "import torch.nn.functional as F\n",
        "\n",
        "class ConvNet(nn.Module):\n",
        "    def __init__(self):\n",
        "        super(ConvNet, self).__init__()\n",
        "        # First convolutional layer\n",
        "        self.conv1 = nn.Conv2d(in_channels=3, out_channels=27, kernel_size=5, padding=2)\n",
        "        # Max pooling layer\n",
        "        self.pool = nn.MaxPool2d(kernel_size=4, stride=4)\n",
        "        # Second convolutional layer\n",
        "        self.conv2 = nn.Conv2d(in_channels=27, out_channels=27, kernel_size=5, padding=2)\n",
        "        # Another max pooling layer\n",
        "        self.pool2 = nn.MaxPool2d(kernel_size=4, stride=4)\n",
        "        # Fully connected layer\n",
        "        self.fc1 = nn.Linear(9 * 6 * 6, 27)  # 3x3 is the size after two max pooling layers\n",
        "\n",
        "    def forward(self, x):\n",
        "        x = F.relu(self.conv1(x))\n",
        "        x = self.pool(x)\n",
        "        x = F.relu(self.conv2(x))\n",
        "        x = self.pool2(x)\n",
        "        x = x.view(-1, 9 * 6 * 6)  # Flatten the output of conv2 layer\n",
        "        x = self.fc1(x)\n",
        "        return x\n",
        "\n",
        "# Instantiate the model\n",
        "model = ConvNet()\n",
        "\n",
        "# Print the model architecture\n",
        "print(model)"
      ]
    },
    {
      "cell_type": "code",
      "execution_count": 31,
      "metadata": {
        "colab": {
          "base_uri": "https://localhost:8080/"
        },
        "id": "rnp3kmY9m9zZ",
        "outputId": "bcca7146-287d-4692-fdee-d730f00e1203"
      },
      "outputs": [
        {
          "name": "stderr",
          "output_type": "stream",
          "text": [
            "<ipython-input-31-954ebab3ef2a>:12: UserWarning: To copy construct from a tensor, it is recommended to use sourceTensor.clone().detach() or sourceTensor.clone().detach().requires_grad_(True), rather than torch.tensor(sourceTensor).\n",
            "  y_train_oh_tensor = torch.tensor(y_train_oh, dtype=torch.float32).to(device)\n",
            "<ipython-input-31-954ebab3ef2a>:14: UserWarning: To copy construct from a tensor, it is recommended to use sourceTensor.clone().detach() or sourceTensor.clone().detach().requires_grad_(True), rather than torch.tensor(sourceTensor).\n",
            "  y_test_oh_tensor = torch.tensor(y_test_oh, dtype=torch.float32).to(device)\n"
          ]
        }
      ],
      "source": [
        "import torch.nn as nn\n",
        "from torch.utils.data import TensorDataset, DataLoader\n",
        "import torch.optim as optim\n",
        "from torch.optim.lr_scheduler import StepLR\n",
        "\n",
        "criterion = nn.CrossEntropyLoss()\n",
        "optimizer = optim.RMSprop(model.parameters(),lr=0.00001)\n",
        "# scheduler = StepLR(optimizer, step_size=5, gamma=0.00001)\n",
        "batch_size = 32\n",
        "\n",
        "x_train_tensor = torch.tensor(x_train, dtype=torch.float32).to(device)\n",
        "y_train_oh_tensor = torch.tensor(y_train_oh, dtype=torch.float32).to(device)\n",
        "x_test_tensor = torch.tensor(x_test, dtype=torch.float32).to(device)\n",
        "y_test_oh_tensor = torch.tensor(y_test_oh, dtype=torch.float32).to(device)\n",
        "\n",
        "train_loader = DataLoader(TensorDataset(x_train_tensor,y_train_oh_tensor),\n",
        "                          batch_size=batch_size, shuffle=True)\n",
        "test_loader = DataLoader(TensorDataset(x_test_tensor,y_test_oh_tensor),\n",
        "                          batch_size=batch_size)"
      ]
    },
    {
      "cell_type": "code",
      "execution_count": 13,
      "metadata": {
        "colab": {
          "base_uri": "https://localhost:8080/"
        },
        "id": "s89S3I9pSTDa",
        "outputId": "2076e731-e44f-4ade-f2ac-d1eafe1b8e77"
      },
      "outputs": [
        {
          "data": {
            "text/plain": [
              "(24300, 2700)"
            ]
          },
          "execution_count": 13,
          "metadata": {},
          "output_type": "execute_result"
        }
      ],
      "source": [
        "len(train_loader.dataset),len(test_loader.dataset)"
      ]
    },
    {
      "cell_type": "code",
      "execution_count": 14,
      "metadata": {
        "colab": {
          "base_uri": "https://localhost:8080/"
        },
        "id": "yiinmgBdRos3",
        "outputId": "95fa0fea-efaf-4035-e67d-b921a391dbbd"
      },
      "outputs": [
        {
          "name": "stdout",
          "output_type": "stream",
          "text": [
            "32\n"
          ]
        }
      ],
      "source": [
        "print(train_loader.batch_size)"
      ]
    },
    {
      "cell_type": "markdown",
      "metadata": {
        "id": "-H7dH-fvrreq"
      },
      "source": [
        "## Define CNN model"
      ]
    },
    {
      "cell_type": "code",
      "execution_count": 36,
      "metadata": {
        "colab": {
          "base_uri": "https://localhost:8080/"
        },
        "id": "8fS6tCZinAwJ",
        "outputId": "b2a79306-16d7-404f-bffd-8281627952f9"
      },
      "outputs": [
        {
          "name": "stdout",
          "output_type": "stream",
          "text": [
            "Epoch [1/100], Train Loss: 5.566555512868412e-07\n",
            "Epoch [2/100], Train Loss: 5.488407235652008e-07\n",
            "Epoch [3/100], Train Loss: 5.433463849728404e-07\n",
            "Epoch [4/100], Train Loss: 5.389950238991651e-07\n",
            "Epoch [5/100], Train Loss: 5.325587896132929e-07\n",
            "Epoch [6/100], Train Loss: 5.252590707269096e-07\n",
            "Epoch [7/100], Train Loss: 5.218594114613676e-07\n",
            "Epoch [8/100], Train Loss: 5.141722453910369e-07\n",
            "Epoch [9/100], Train Loss: 5.072699671876699e-07\n",
            "Epoch [10/100], Train Loss: 5.027321887388138e-07\n",
            "Epoch [11/100], Train Loss: 4.960997173835858e-07\n",
            "Epoch [12/100], Train Loss: 4.900264898013675e-07\n",
            "Epoch [13/100], Train Loss: 4.855230223126568e-07\n",
            "Epoch [14/100], Train Loss: 4.763003460742202e-07\n",
            "Epoch [15/100], Train Loss: 4.724248793930434e-07\n",
            "Epoch [16/100], Train Loss: 4.6734745141433276e-07\n",
            "Epoch [17/100], Train Loss: 4.636485981542912e-07\n",
            "Epoch [18/100], Train Loss: 4.5406285536958966e-07\n",
            "Epoch [19/100], Train Loss: 4.482251163509269e-07\n",
            "Epoch [20/100], Train Loss: 4.4466357503684155e-07\n",
            "Epoch [21/100], Train Loss: 4.408715003780972e-07\n",
            "Epoch [22/100], Train Loss: 4.349601062582119e-07\n",
            "Epoch [23/100], Train Loss: 4.2975514358404946e-07\n",
            "Epoch [24/100], Train Loss: 4.2478568765865796e-07\n",
            "Epoch [25/100], Train Loss: 4.2143016951551475e-07\n",
            "Epoch [26/100], Train Loss: 4.156268170128369e-07\n",
            "Epoch [27/100], Train Loss: 4.1185918235045663e-07\n",
            "Epoch [28/100], Train Loss: 4.0541307884645784e-07\n",
            "Epoch [29/100], Train Loss: 4.0027688932999903e-07\n",
            "Epoch [30/100], Train Loss: 3.980643924787747e-07\n",
            "Epoch [31/100], Train Loss: 3.9296245762291455e-07\n",
            "Epoch [32/100], Train Loss: 3.866979030988439e-07\n",
            "Epoch [33/100], Train Loss: 3.840095683815734e-07\n",
            "Epoch [34/100], Train Loss: 3.77308396365931e-07\n",
            "Epoch [35/100], Train Loss: 3.7429629672670087e-07\n",
            "Epoch [36/100], Train Loss: 3.6931213138068685e-07\n",
            "Epoch [37/100], Train Loss: 3.663245053570189e-07\n",
            "Epoch [38/100], Train Loss: 3.601384445240561e-07\n",
            "Epoch [39/100], Train Loss: 3.5796520878011883e-07\n",
            "Epoch [40/100], Train Loss: 3.5199987693045024e-07\n",
            "Epoch [41/100], Train Loss: 3.4932137457899293e-07\n",
            "Epoch [42/100], Train Loss: 3.4399371643173484e-07\n",
            "Epoch [43/100], Train Loss: 3.3962278925502815e-07\n",
            "Epoch [44/100], Train Loss: 3.3780275971867386e-07\n",
            "Epoch [45/100], Train Loss: 3.3390766646581694e-07\n",
            "Epoch [46/100], Train Loss: 3.2806990402322106e-07\n",
            "Epoch [47/100], Train Loss: 3.2455737957169357e-07\n",
            "Epoch [48/100], Train Loss: 3.226098330563788e-07\n",
            "Epoch [49/100], Train Loss: 3.172086292806034e-07\n",
            "Epoch [50/100], Train Loss: 3.1453993496544967e-07\n",
            "Epoch [51/100], Train Loss: 3.100217995012261e-07\n",
            "Epoch [52/100], Train Loss: 3.0625911681322285e-07\n",
            "Epoch [53/100], Train Loss: 3.0353644675074066e-07\n",
            "Epoch [54/100], Train Loss: 3.0061265336680447e-07\n",
            "Epoch [55/100], Train Loss: 2.9713941327777986e-07\n",
            "Epoch [56/100], Train Loss: 2.945050410528532e-07\n",
            "Epoch [57/100], Train Loss: 2.8963368799218693e-07\n",
            "Epoch [58/100], Train Loss: 2.8652836875049435e-07\n",
            "Epoch [59/100], Train Loss: 2.8187286225035263e-07\n",
            "Epoch [60/100], Train Loss: 2.7971434711910935e-07\n",
            "Epoch [61/100], Train Loss: 2.7722222382060214e-07\n",
            "Epoch [62/100], Train Loss: 2.734252160730049e-07\n",
            "Epoch [63/100], Train Loss: 2.704131168984054e-07\n",
            "Epoch [64/100], Train Loss: 2.6729308995922954e-07\n",
            "Epoch [65/100], Train Loss: 2.65193442221397e-07\n",
            "Epoch [66/100], Train Loss: 2.6073905089164367e-07\n",
            "Epoch [67/100], Train Loss: 2.573394160208175e-07\n",
            "Epoch [68/100], Train Loss: 2.551416523144481e-07\n",
            "Epoch [69/100], Train Loss: 2.5211481929293063e-07\n",
            "Epoch [70/100], Train Loss: 2.5010348339239233e-07\n",
            "Epoch [71/100], Train Loss: 2.4588457291168866e-07\n",
            "Epoch [72/100], Train Loss: 2.4214641888057795e-07\n",
            "Epoch [73/100], Train Loss: 2.4121923689112114e-07\n",
            "Epoch [74/100], Train Loss: 2.3771655913585498e-07\n",
            "Epoch [75/100], Train Loss: 2.357101299688821e-07\n",
            "Epoch [76/100], Train Loss: 2.330365175061565e-07\n",
            "Epoch [77/100], Train Loss: 2.303432744927114e-07\n",
            "Epoch [78/100], Train Loss: 2.2696324157252857e-07\n",
            "Epoch [79/100], Train Loss: 2.2572209486126973e-07\n",
            "Epoch [80/100], Train Loss: 2.229258372611146e-07\n",
            "Epoch [81/100], Train Loss: 2.19418257497246e-07\n",
            "Epoch [82/100], Train Loss: 2.1791710150987485e-07\n",
            "Epoch [83/100], Train Loss: 2.1506198565482425e-07\n",
            "Epoch [84/100], Train Loss: 2.1300157733518107e-07\n",
            "Epoch [85/100], Train Loss: 2.102740040512029e-07\n",
            "Epoch [86/100], Train Loss: 2.0771322212512406e-07\n",
            "Epoch [87/100], Train Loss: 2.0491207103995528e-07\n",
            "Epoch [88/100], Train Loss: 2.0400939464428498e-07\n",
            "Epoch [89/100], Train Loss: 2.013161637776118e-07\n",
            "Epoch [90/100], Train Loss: 1.9821575884685274e-07\n",
            "Epoch [91/100], Train Loss: 1.9596894413064513e-07\n",
            "Epoch [92/100], Train Loss: 1.937368502590083e-07\n",
            "Epoch [93/100], Train Loss: 1.9244173101306832e-07\n",
            "Epoch [94/100], Train Loss: 1.8942472273350357e-07\n",
            "Epoch [95/100], Train Loss: 1.8780093257240657e-07\n",
            "Epoch [96/100], Train Loss: 1.8549033476527298e-07\n",
            "Epoch [97/100], Train Loss: 1.839548418531214e-07\n",
            "Epoch [98/100], Train Loss: 1.8149217497041178e-07\n",
            "Epoch [99/100], Train Loss: 1.79407249704673e-07\n",
            "Epoch [100/100], Train Loss: 1.7783251282656615e-07\n"
          ]
        }
      ],
      "source": [
        "def train_model(model, criterion, optimizer, device, num_epochs=100):\n",
        "    model.to(device)  # Move the model to the device outside the loop\n",
        "    for epoch in range(num_epochs):\n",
        "        running_loss = 0\n",
        "        for inputs, labels in train_loader:\n",
        "            inputs, labels = inputs.to(device), labels.to(device)  # Move inputs and labels to device\n",
        "            # print(f\"Inputs size from train_loader: {inputs.size()}\")  # Print sizes for debugging\n",
        "            # print(f\"Labels size from train_loader: {labels.size()}\")\n",
        "            optimizer.zero_grad()\n",
        "            outputs = model(inputs)\n",
        "            # print(f\"Output Tensor size from Model: {outputs.size()}\")\n",
        "            loss = criterion(outputs, labels)\n",
        "            loss.backward()\n",
        "            optimizer.step()\n",
        "            # scheduler.step()\n",
        "            running_loss += loss.item() * inputs.size(0)\n",
        "        epoch_loss = running_loss / len(train_loader.dataset)\n",
        "        print(f\"Epoch [{epoch+1}/{num_epochs}], Train Loss: {epoch_loss}\")\n",
        "        # Learnig rate:{scheduler.get_last_lr()}\n",
        "\n",
        "# Call the function to train the model\n",
        "train_model(model=model, criterion=criterion, optimizer=optimizer, device=device)"
      ]
    },
    {
      "cell_type": "code",
      "execution_count": 38,
      "metadata": {
        "colab": {
          "base_uri": "https://localhost:8080/"
        },
        "id": "EfyGJXaSnGaT",
        "outputId": "50972376-771a-4923-bcf0-f6113a3fceb1"
      },
      "outputs": [
        {
          "name": "stdout",
          "output_type": "stream",
          "text": [
            "Total accurate predictions: 2539 out of 2700\n",
            "Accuracy on test set: 0.9404\n"
          ]
        }
      ],
      "source": [
        "def test_model(model, test_loader):\n",
        "    model.eval()  # Set the model to evaluation mode\n",
        "    correct = 0\n",
        "    total = 0\n",
        "    with torch.no_grad():\n",
        "        for inputs, labels in test_loader:\n",
        "          inputs, labels = inputs.to(device), labels.to(device)\n",
        "          outputs = model(inputs)\n",
        "          _, predicted = torch.max(outputs, 1)\n",
        "          _, labels_indices = torch.max(labels, 1)  # Convert one-hot labels to indices\n",
        "          total += labels.size(0)\n",
        "          correct += (predicted == labels_indices).sum().item()\n",
        "    accuracy = correct / total\n",
        "    print(f\"Total accurate predictions: {correct} out of {total}\")\n",
        "    print(f\"Accuracy on test set: {accuracy:.4f}\")\n",
        "\n",
        "test_model(model=model,test_loader=test_loader)"
      ]
    }
  ],
  "metadata": {
    "accelerator": "GPU",
    "colab": {
      "authorship_tag": "ABX9TyMSo2oZHRg00WL4VgpVRqIw",
      "gpuType": "T4",
      "include_colab_link": true,
      "provenance": []
    },
    "kernelspec": {
      "display_name": "Python 3",
      "name": "python3"
    },
    "language_info": {
      "name": "python"
    }
  },
  "nbformat": 4,
  "nbformat_minor": 0
}
