{
  "nbformat": 4,
  "nbformat_minor": 0,
  "metadata": {
    "colab": {
      "provenance": [],
      "gpuType": "T4",
      "authorship_tag": "ABX9TyOtdIxmyR//qvgJXpJegRdF",
      "include_colab_link": true
    },
    "kernelspec": {
      "name": "python3",
      "display_name": "Python 3"
    },
    "language_info": {
      "name": "python"
    },
    "accelerator": "GPU"
  },
  "cells": [
    {
      "cell_type": "markdown",
      "metadata": {
        "id": "view-in-github",
        "colab_type": "text"
      },
      "source": [
        "<a href=\"https://colab.research.google.com/github/AmitAaranya/ASL-Recognition-with-Deep-Learning-PyTorch/blob/main/google-colab.ipynb\" target=\"_parent\"><img src=\"https://colab.research.google.com/assets/colab-badge.svg\" alt=\"Open In Colab\"/></a>"
      ]
    },
    {
      "cell_type": "markdown",
      "source": [
        "# Load the ASL Image Data\n",
        "**URL:** https://www.kaggle.com/datasets/lexset/synthetic-asl-alphabet\n"
      ],
      "metadata": {
        "id": "28879DrVqA5c"
      }
    },
    {
      "cell_type": "code",
      "source": [
        "!echo \"{\\\"username\\\":\\\"amit\\\",\\\"key\\\":\\\"e88\\\"}\" > /root/.kaggle/kaggle.json"
      ],
      "metadata": {
        "id": "qdwPHrcNev3I"
      },
      "execution_count": null,
      "outputs": []
    },
    {
      "cell_type": "code",
      "execution_count": 5,
      "metadata": {
        "id": "AJGYtwHBc12L",
        "outputId": "ebbb2d03-5794-4c1a-9974-4f075d3fb5e3",
        "colab": {
          "base_uri": "https://localhost:8080/"
        }
      },
      "outputs": [
        {
          "output_type": "stream",
          "name": "stdout",
          "text": [
            "Warning: Your Kaggle API key is readable by other users on this system! To fix this, you can run 'chmod 600 /root/.kaggle/kaggle.json'\n",
            "Downloading synthetic-asl-alphabet.zip to /content\n",
            "100% 6.58G/6.58G [05:19<00:00, 25.8MB/s]\n",
            "100% 6.58G/6.58G [05:19<00:00, 22.1MB/s]\n"
          ]
        }
      ],
      "source": [
        "!kaggle datasets download -d lexset/synthetic-asl-alphabet"
      ]
    },
    {
      "cell_type": "code",
      "source": [
        "!mkdir datasets"
      ],
      "metadata": {
        "id": "-I9T9ZBYi9-g"
      },
      "execution_count": 15,
      "outputs": []
    },
    {
      "cell_type": "code",
      "source": [
        "!unzip synthetic-asl-alphabet.zip -d ./datasets/"
      ],
      "metadata": {
        "id": "dQOIq70ShFr8"
      },
      "execution_count": null,
      "outputs": []
    },
    {
      "cell_type": "markdown",
      "source": [
        "# Clone GitHub repo\n",
        "**URL:** https://github.com/AmitAaranya/ASL-Recognition-with-Deep-Learning-PyTorch"
      ],
      "metadata": {
        "id": "s-y-mBcJqaxY"
      }
    },
    {
      "cell_type": "code",
      "source": [
        "!git clone https://github.com/AmitAaranya/ASL-Recognition-with-Deep-Learning-PyTorch.git ./code/"
      ],
      "metadata": {
        "id": "EI2B9fs6dZNs",
        "outputId": "965edfee-cc1a-4786-c058-d5812d09d9b6",
        "colab": {
          "base_uri": "https://localhost:8080/"
        }
      },
      "execution_count": 19,
      "outputs": [
        {
          "output_type": "stream",
          "name": "stdout",
          "text": [
            "Cloning into './code'...\n",
            "remote: Enumerating objects: 32, done.\u001b[K\n",
            "remote: Counting objects: 100% (32/32), done.\u001b[K\n",
            "remote: Compressing objects: 100% (20/20), done.\u001b[K\n",
            "remote: Total 32 (delta 7), reused 24 (delta 5), pack-reused 0\u001b[K\n",
            "Receiving objects: 100% (32/32), 808.19 KiB | 1.64 MiB/s, done.\n",
            "Resolving deltas: 100% (7/7), done.\n"
          ]
        }
      ]
    },
    {
      "cell_type": "code",
      "source": [
        "!git --git-dir=./code/.git pull"
      ],
      "metadata": {
        "id": "zhpnvxWbgTRr",
        "outputId": "75da67ac-e1f0-4d5f-8bd2-7941d5249ab9",
        "colab": {
          "base_uri": "https://localhost:8080/"
        }
      },
      "execution_count": 20,
      "outputs": [
        {
          "output_type": "stream",
          "name": "stdout",
          "text": [
            "Already up to date.\n"
          ]
        }
      ]
    },
    {
      "cell_type": "code",
      "source": [
        "## Add the folder to system path, so we can import file directly\n",
        "import sys\n",
        "sys.path.append('/content/code')"
      ],
      "metadata": {
        "id": "-BRc3NMmk0YI"
      },
      "execution_count": 38,
      "outputs": []
    },
    {
      "cell_type": "markdown",
      "source": [
        "# Exploratory Data Analysis(EDA)"
      ],
      "metadata": {
        "id": "74s_T0FUrORM"
      }
    },
    {
      "cell_type": "code",
      "source": [
        "# Imports\n",
        "import torch\n",
        "import numpy as np"
      ],
      "metadata": {
        "id": "CQ2rziofjOSz"
      },
      "execution_count": 18,
      "outputs": []
    },
    {
      "cell_type": "markdown",
      "source": [
        "## Load Data"
      ],
      "metadata": {
        "id": "Z36Bci5RrnaY"
      }
    },
    {
      "cell_type": "code",
      "source": [
        "from data_loader import load_datasets\n",
        "\n",
        "size = 100\n",
        "x_train, y_train = load_datasets(size = size)\n",
        "x_test,  y_test = load_datasets(train_or_test_folder=\"Test_Alphabet\",size = size)\n",
        "\n",
        "print(f\"Train dataset count: {len(x_train)} \\nTest dataset count: {len(x_test)} \")"
      ],
      "metadata": {
        "id": "3DiaC0e1jfUa",
        "outputId": "78fc9fba-b301-4da1-ce67-c2e3a4040182",
        "colab": {
          "base_uri": "https://localhost:8080/"
        }
      },
      "execution_count": 24,
      "outputs": [
        {
          "output_type": "stream",
          "name": "stdout",
          "text": [
            "Train dataset count: 24300 \n",
            "Test dataset count: 2700 \n"
          ]
        }
      ]
    },
    {
      "cell_type": "code",
      "source": [
        "from data_loader import alphabet_to_num\n",
        "\n",
        "def one_hot_coding(unique_labels, data):\n",
        "    y_oh = torch.zeros(len(data),unique_labels)\n",
        "    for i, class_word in enumerate(data):\n",
        "        index = alphabet_to_num(class_word)\n",
        "        y_oh[i][index] = 1\n",
        "\n",
        "    return y_oh\n",
        "\n",
        "y_train_oh = one_hot_coding(len(np.unique(y_train)),y_train)\n",
        "y_test_oh = one_hot_coding(len(np.unique(y_train)),y_test)"
      ],
      "metadata": {
        "id": "QX-Oxal_mn2K"
      },
      "execution_count": 25,
      "outputs": []
    },
    {
      "cell_type": "code",
      "source": [
        "x_train[0].shape,y_train.shape"
      ],
      "metadata": {
        "id": "wUO8ydeXmrJD",
        "outputId": "fd959a94-a674-41b3-c1aa-0bc111d8b368",
        "colab": {
          "base_uri": "https://localhost:8080/"
        }
      },
      "execution_count": 26,
      "outputs": [
        {
          "output_type": "execute_result",
          "data": {
            "text/plain": [
              "((3, 50, 50), (24300,))"
            ]
          },
          "metadata": {},
          "execution_count": 26
        }
      ]
    },
    {
      "cell_type": "code",
      "source": [
        "import torch.nn as nn\n",
        "from torch.utils.data import TensorDataset, DataLoader\n",
        "import torch.optim as optim\n",
        "\n",
        "criterion = nn.CrossEntropyLoss()\n",
        "optimizer = optim.RMSprop(model.parameters(),lr=0.0005)\n",
        "batch_size = 32\n",
        "\n",
        "train_loader = DataLoader(TensorDataset(torch.tensor(x_train),torch.tensor(y_train_oh)),\n",
        "                          batch_size=batch_size, shuffle=True)\n",
        "test_loader = DataLoader(TensorDataset(torch.tensor(x_test),torch.tensor(y_test_oh)),\n",
        "                          batch_size=batch_size)"
      ],
      "metadata": {
        "id": "rnp3kmY9m9zZ",
        "outputId": "d475b9c0-62f2-40fd-f801-b20cf70e69b3",
        "colab": {
          "base_uri": "https://localhost:8080/"
        }
      },
      "execution_count": 36,
      "outputs": [
        {
          "output_type": "stream",
          "name": "stderr",
          "text": [
            "<ipython-input-36-a3d468b4251c>:8: UserWarning: To copy construct from a tensor, it is recommended to use sourceTensor.clone().detach() or sourceTensor.clone().detach().requires_grad_(True), rather than torch.tensor(sourceTensor).\n",
            "  train_loader = DataLoader(TensorDataset(torch.tensor(x_train),torch.tensor(y_train_oh)),\n",
            "<ipython-input-36-a3d468b4251c>:10: UserWarning: To copy construct from a tensor, it is recommended to use sourceTensor.clone().detach() or sourceTensor.clone().detach().requires_grad_(True), rather than torch.tensor(sourceTensor).\n",
            "  test_loader = DataLoader(TensorDataset(torch.tensor(x_test),torch.tensor(y_test_oh)),\n"
          ]
        }
      ]
    },
    {
      "cell_type": "markdown",
      "source": [
        "## Define CNN model"
      ],
      "metadata": {
        "id": "-H7dH-fvrreq"
      }
    },
    {
      "cell_type": "code",
      "source": [
        "import torch\n",
        "import torch.nn as nn\n",
        "import torch.nn.functional as F\n",
        "\n",
        "class ConvNet(nn.Module):\n",
        "    def __init__(self):\n",
        "        super(ConvNet, self).__init__()\n",
        "        # First convolutional layer\n",
        "        self.conv1 = nn.Conv2d(in_channels=3, out_channels=27, kernel_size=5, padding=2)\n",
        "        # Max pooling layer\n",
        "        self.pool = nn.MaxPool2d(kernel_size=4, stride=4)\n",
        "        # Second convolutional layer\n",
        "        self.conv2 = nn.Conv2d(in_channels=27, out_channels=9, kernel_size=5, padding=2)\n",
        "        # Another max pooling layer\n",
        "        self.pool2 = nn.MaxPool2d(kernel_size=4, stride=4)\n",
        "        # Fully connected layer\n",
        "        self.fc1 = nn.Linear(9 * 3 * 3, 27)  # 3x3 is the size after two max pooling layers\n",
        "\n",
        "    def forward(self, x):\n",
        "        x = F.relu(self.conv1(x))\n",
        "        x = self.pool(x)\n",
        "        x = F.relu(self.conv2(x))\n",
        "        x = self.pool2(x)\n",
        "        x = x.view(-1, 9 * 3 * 3)  # Flatten the output of conv2 layer\n",
        "        x = self.fc1(x)\n",
        "        return x\n",
        "\n",
        "# Instantiate the model\n",
        "model = ConvNet()\n",
        "\n",
        "# Print the model architecture\n",
        "print(model)"
      ],
      "metadata": {
        "id": "HuSCQSF4mzAL",
        "outputId": "4fac23c8-b44d-4a69-fa5e-db517cbcc586",
        "colab": {
          "base_uri": "https://localhost:8080/"
        }
      },
      "execution_count": 34,
      "outputs": [
        {
          "output_type": "stream",
          "name": "stdout",
          "text": [
            "ConvNet(\n",
            "  (conv1): Conv2d(3, 27, kernel_size=(5, 5), stride=(1, 1), padding=(2, 2))\n",
            "  (pool): MaxPool2d(kernel_size=4, stride=4, padding=0, dilation=1, ceil_mode=False)\n",
            "  (conv2): Conv2d(27, 9, kernel_size=(5, 5), stride=(1, 1), padding=(2, 2))\n",
            "  (pool2): MaxPool2d(kernel_size=4, stride=4, padding=0, dilation=1, ceil_mode=False)\n",
            "  (fc1): Linear(in_features=81, out_features=27, bias=True)\n",
            ")\n"
          ]
        }
      ]
    },
    {
      "cell_type": "code",
      "source": [
        "def train_model(model,criterion,optimizer,num_epochs=50):\n",
        "    for epoch in range(num_epochs):\n",
        "        running_loss = 0\n",
        "        for inputs, labels in train_loader:\n",
        "            optimizer.zero_grad()\n",
        "            outputs = model(inputs)\n",
        "            loss = criterion(outputs, labels)\n",
        "            loss.backward()\n",
        "            optimizer.step()\n",
        "            running_loss += loss.item() * inputs.size(0)\n",
        "\n",
        "        epoch_loss = running_loss / len(train_loader.dataset)\n",
        "        print(f\"Epoch [{epoch+1}/{num_epochs}], Train Loss: {epoch_loss:.4f}\")\n",
        "\n",
        "\n",
        "train_model(model=model, criterion=criterion, optimizer=optimizer)"
      ],
      "metadata": {
        "id": "8fS6tCZinAwJ",
        "outputId": "bf03d6ec-0d10-4b2b-a133-048f0a69c965",
        "colab": {
          "base_uri": "https://localhost:8080/"
        }
      },
      "execution_count": 37,
      "outputs": [
        {
          "output_type": "stream",
          "name": "stdout",
          "text": [
            "Epoch [1/50], Train Loss: 3.1756\n",
            "Epoch [2/50], Train Loss: 2.6273\n",
            "Epoch [3/50], Train Loss: 2.2609\n",
            "Epoch [4/50], Train Loss: 2.0347\n",
            "Epoch [5/50], Train Loss: 1.8718\n",
            "Epoch [6/50], Train Loss: 1.7439\n",
            "Epoch [7/50], Train Loss: 1.6357\n",
            "Epoch [8/50], Train Loss: 1.5461\n",
            "Epoch [9/50], Train Loss: 1.4670\n",
            "Epoch [10/50], Train Loss: 1.4013\n",
            "Epoch [11/50], Train Loss: 1.3381\n",
            "Epoch [12/50], Train Loss: 1.2837\n",
            "Epoch [13/50], Train Loss: 1.2336\n",
            "Epoch [14/50], Train Loss: 1.1888\n",
            "Epoch [15/50], Train Loss: 1.1478\n",
            "Epoch [16/50], Train Loss: 1.1082\n",
            "Epoch [17/50], Train Loss: 1.0743\n",
            "Epoch [18/50], Train Loss: 1.0401\n",
            "Epoch [19/50], Train Loss: 1.0107\n",
            "Epoch [20/50], Train Loss: 0.9828\n",
            "Epoch [21/50], Train Loss: 0.9591\n",
            "Epoch [22/50], Train Loss: 0.9359\n",
            "Epoch [23/50], Train Loss: 0.9133\n",
            "Epoch [24/50], Train Loss: 0.8913\n",
            "Epoch [25/50], Train Loss: 0.8732\n",
            "Epoch [26/50], Train Loss: 0.8534\n",
            "Epoch [27/50], Train Loss: 0.8358\n",
            "Epoch [28/50], Train Loss: 0.8199\n",
            "Epoch [29/50], Train Loss: 0.8041\n",
            "Epoch [30/50], Train Loss: 0.7894\n",
            "Epoch [31/50], Train Loss: 0.7735\n",
            "Epoch [32/50], Train Loss: 0.7581\n",
            "Epoch [33/50], Train Loss: 0.7461\n",
            "Epoch [34/50], Train Loss: 0.7342\n",
            "Epoch [35/50], Train Loss: 0.7200\n",
            "Epoch [36/50], Train Loss: 0.7073\n",
            "Epoch [37/50], Train Loss: 0.6944\n",
            "Epoch [38/50], Train Loss: 0.6847\n",
            "Epoch [39/50], Train Loss: 0.6733\n",
            "Epoch [40/50], Train Loss: 0.6615\n",
            "Epoch [41/50], Train Loss: 0.6502\n",
            "Epoch [42/50], Train Loss: 0.6433\n",
            "Epoch [43/50], Train Loss: 0.6324\n",
            "Epoch [44/50], Train Loss: 0.6224\n",
            "Epoch [45/50], Train Loss: 0.6116\n",
            "Epoch [46/50], Train Loss: 0.6058\n",
            "Epoch [47/50], Train Loss: 0.5970\n",
            "Epoch [48/50], Train Loss: 0.5879\n",
            "Epoch [49/50], Train Loss: 0.5807\n",
            "Epoch [50/50], Train Loss: 0.5735\n"
          ]
        }
      ]
    },
    {
      "cell_type": "code",
      "source": [
        "def test_model(model, test_loader):\n",
        "    model.eval()  # Set the model to evaluation mode\n",
        "    correct = 0\n",
        "    total = 0\n",
        "    with torch.no_grad():\n",
        "        for inputs, labels in test_loader:\n",
        "            outputs = model(inputs)\n",
        "            _, predicted = torch.max(outputs, 1)\n",
        "            _, labels_indices = torch.max(labels, 1)  # Convert one-hot labels to indices\n",
        "            total += labels.size(0)\n",
        "            correct += (predicted == labels_indices).sum().item()\n",
        "    accuracy = correct / total\n",
        "    print(f\"Total accurate predictions: {correct} out of {total}\")\n",
        "    print(f\"Accuracy on test set: {accuracy:.4f}\")\n",
        "\n",
        "test_model(model=model,test_loader=test_loader)"
      ],
      "metadata": {
        "id": "EfyGJXaSnGaT",
        "outputId": "ef6dadc5-279e-4c59-a559-04fd50c1e7a2",
        "colab": {
          "base_uri": "https://localhost:8080/"
        }
      },
      "execution_count": 39,
      "outputs": [
        {
          "output_type": "stream",
          "name": "stdout",
          "text": [
            "Total accurate predictions: 2175 out of 2700\n",
            "Accuracy on test set: 0.8056\n"
          ]
        }
      ]
    }
  ]
}