{
  "cells": [
    {
      "cell_type": "markdown",
      "metadata": {
        "id": "view-in-github",
        "colab_type": "text"
      },
      "source": [
        "<a href=\"https://colab.research.google.com/github/AmitAaranya/ASL-Recognition-with-CNN-PyTorch/blob/main/google-colab.ipynb\" target=\"_parent\"><img src=\"https://colab.research.google.com/assets/colab-badge.svg\" alt=\"Open In Colab\"/></a>"
      ]
    },
    {
      "cell_type": "markdown",
      "metadata": {
        "id": "s-y-mBcJqaxY"
      },
      "source": [
        "# Clone GitHub repo\n",
        "**URL:** https://github.com/AmitAaranya/ASL-Recognition-with-Deep-Learning-PyTorch"
      ]
    },
    {
      "cell_type": "code",
      "execution_count": 1,
      "metadata": {
        "colab": {
          "base_uri": "https://localhost:8080/"
        },
        "id": "EI2B9fs6dZNs",
        "outputId": "4a94b4e3-a59d-4600-d87e-bd9c8004ee21"
      },
      "outputs": [
        {
          "output_type": "stream",
          "name": "stdout",
          "text": [
            "Cloning into './code'...\n",
            "remote: Enumerating objects: 114, done.\u001b[K\n",
            "remote: Counting objects: 100% (114/114), done.\u001b[K\n",
            "remote: Compressing objects: 100% (84/84), done.\u001b[K\n",
            "remote: Total 114 (delta 48), reused 68 (delta 19), pack-reused 0\u001b[K\n",
            "Receiving objects: 100% (114/114), 2.51 MiB | 26.28 MiB/s, done.\n",
            "Resolving deltas: 100% (48/48), done.\n"
          ]
        }
      ],
      "source": [
        "!git clone https://github.com/AmitAaranya/ASL-Recognition-with-Deep-Learning-PyTorch.git ./code/"
      ]
    },
    {
      "cell_type": "code",
      "execution_count": null,
      "metadata": {
        "id": "n-t-2sWVOEnf"
      },
      "outputs": [],
      "source": [
        "!git config --global user.email \"amitaaranya@gmail.com\"\n",
        "!git config --global user.name \"AMIT\""
      ]
    },
    {
      "cell_type": "code",
      "execution_count": null,
      "metadata": {
        "colab": {
          "base_uri": "https://localhost:8080/"
        },
        "id": "zhpnvxWbgTRr",
        "outputId": "b4329ba3-a216-40d6-d5d9-d11d3232f71b"
      },
      "outputs": [
        {
          "name": "stdout",
          "output_type": "stream",
          "text": [
            "On branch main\n",
            "Your branch is up to date with 'origin/main'.\n",
            "\n",
            "Changes not staged for commit:\n",
            "  (use \"git add/rm <file>...\" to update what will be committed)\n",
            "  (use \"git restore <file>...\" to discard changes in working directory)\n",
            "\t\u001b[31mdeleted:    .gitignore\u001b[m\n",
            "\t\u001b[31mdeleted:    README.md\u001b[m\n",
            "\t\u001b[31mdeleted:    asl-image-labels.png\u001b[m\n",
            "\t\u001b[31mdeleted:    data-set-distribution.png\u001b[m\n",
            "\t\u001b[31mdeleted:    data_loader.py\u001b[m\n",
            "\t\u001b[31mdeleted:    google-colab.ipynb\u001b[m\n",
            "\t\u001b[31mdeleted:    notebook.ipynb\u001b[m\n",
            "\t\u001b[31mdeleted:    requirements.txt\u001b[m\n",
            "\n",
            "Untracked files:\n",
            "  (use \"git add <file>...\" to include in what will be committed)\n",
            "\t\u001b[31m.config/\u001b[m\n",
            "\t\u001b[31masl_cnn_model.pth\u001b[m\n",
            "\t\u001b[31mcode/\u001b[m\n",
            "\t\u001b[31mdatasets/\u001b[m\n",
            "\t\u001b[31msample_data/\u001b[m\n",
            "\t\u001b[31msynthetic-asl-alphabet.zip\u001b[m\n",
            "\n",
            "no changes added to commit (use \"git add\" and/or \"git commit -a\")\n"
          ]
        }
      ],
      "source": [
        "!git --git-dir=./code/.git commit -m \"Model save\""
      ]
    },
    {
      "cell_type": "code",
      "execution_count": 2,
      "metadata": {
        "id": "-BRc3NMmk0YI"
      },
      "outputs": [],
      "source": [
        "## Add the folder to system path, so we can import file directly\n",
        "import sys\n",
        "sys.path.append('/content/code')"
      ]
    },
    {
      "cell_type": "code",
      "execution_count": 3,
      "metadata": {
        "id": "TTGL6GNs0aD0",
        "outputId": "66ca4bb0-5882-4771-ad74-15cdee6dfda0",
        "colab": {
          "base_uri": "https://localhost:8080/"
        }
      },
      "outputs": [
        {
          "output_type": "stream",
          "name": "stdout",
          "text": [
            "\u001b[31mERROR: Operation cancelled by user\u001b[0m\u001b[31m\n",
            "\u001b[0m"
          ]
        }
      ],
      "source": [
        "!pip install -r code/requirements.txt > /dev/null"
      ]
    },
    {
      "cell_type": "code",
      "execution_count": 4,
      "metadata": {
        "colab": {
          "base_uri": "https://localhost:8080/"
        },
        "id": "rnJspfI8Gtrh",
        "outputId": "909efe51-41e6-4c76-eb53-3d8eba8711ff"
      },
      "outputs": [
        {
          "output_type": "stream",
          "name": "stdout",
          "text": [
            "Requirement already satisfied: kaggle in /usr/local/lib/python3.10/dist-packages (1.6.12)\n",
            "Requirement already satisfied: six>=1.10 in /usr/local/lib/python3.10/dist-packages (from kaggle) (1.16.0)\n",
            "Requirement already satisfied: certifi>=2023.7.22 in /usr/local/lib/python3.10/dist-packages (from kaggle) (2024.2.2)\n",
            "Requirement already satisfied: python-dateutil in /usr/local/lib/python3.10/dist-packages (from kaggle) (2.8.2)\n",
            "Requirement already satisfied: requests in /usr/local/lib/python3.10/dist-packages (from kaggle) (2.31.0)\n",
            "Requirement already satisfied: tqdm in /usr/local/lib/python3.10/dist-packages (from kaggle) (4.66.4)\n",
            "Requirement already satisfied: python-slugify in /usr/local/lib/python3.10/dist-packages (from kaggle) (8.0.4)\n",
            "Requirement already satisfied: urllib3 in /usr/local/lib/python3.10/dist-packages (from kaggle) (2.0.7)\n",
            "Requirement already satisfied: bleach in /usr/local/lib/python3.10/dist-packages (from kaggle) (6.1.0)\n",
            "Requirement already satisfied: webencodings in /usr/local/lib/python3.10/dist-packages (from bleach->kaggle) (0.5.1)\n",
            "Requirement already satisfied: text-unidecode>=1.3 in /usr/local/lib/python3.10/dist-packages (from python-slugify->kaggle) (1.3)\n",
            "Requirement already satisfied: charset-normalizer<4,>=2 in /usr/local/lib/python3.10/dist-packages (from requests->kaggle) (3.3.2)\n",
            "Requirement already satisfied: idna<4,>=2.5 in /usr/local/lib/python3.10/dist-packages (from requests->kaggle) (3.7)\n"
          ]
        }
      ],
      "source": [
        "!pip install kaggle"
      ]
    },
    {
      "cell_type": "markdown",
      "metadata": {
        "id": "28879DrVqA5c"
      },
      "source": [
        "# Load the ASL Image Data\n",
        "**URL:** https://www.kaggle.com/datasets/lexset/synthetic-asl-alphabet\n"
      ]
    },
    {
      "cell_type": "code",
      "execution_count": null,
      "metadata": {
        "id": "qdwPHrcNev3I"
      },
      "outputs": [],
      "source": [
        "!echo \"{\\\"username\\\":\\\"amitaaranya\\\",\\\"key\\\":\\\"e8845441bb41bfd733339ef7c8f50fa\\\"}\" > /root/.kaggle/kaggle.json"
      ]
    },
    {
      "cell_type": "code",
      "execution_count": 5,
      "metadata": {
        "colab": {
          "base_uri": "https://localhost:8080/"
        },
        "id": "AJGYtwHBc12L",
        "outputId": "e7ab9071-b9b9-4864-97a5-880409e92b5e"
      },
      "outputs": [
        {
          "output_type": "stream",
          "name": "stdout",
          "text": [
            "Warning: Looks like you're using an outdated API Version, please consider updating (server 1.6.14 / client 1.6.12)\n",
            "Dataset URL: https://www.kaggle.com/datasets/lexset/synthetic-asl-alphabet\n",
            "License(s): copyright-authors\n",
            "Downloading synthetic-asl-alphabet.zip to /content\n",
            "100% 6.56G/6.58G [01:22<00:00, 127MB/s]\n",
            "100% 6.58G/6.58G [01:22<00:00, 85.9MB/s]\n"
          ]
        }
      ],
      "source": [
        "!kaggle datasets download -d lexset/synthetic-asl-alphabet"
      ]
    },
    {
      "cell_type": "code",
      "execution_count": 6,
      "metadata": {
        "id": "-I9T9ZBYi9-g"
      },
      "outputs": [],
      "source": [
        "!mkdir datasets"
      ]
    },
    {
      "cell_type": "code",
      "execution_count": 7,
      "metadata": {
        "id": "dQOIq70ShFr8"
      },
      "outputs": [],
      "source": [
        "!unzip synthetic-asl-alphabet.zip -d ./datasets/ > /dev/null"
      ]
    },
    {
      "cell_type": "markdown",
      "metadata": {
        "id": "74s_T0FUrORM"
      },
      "source": [
        "# Exploratory Data Analysis(EDA)"
      ]
    },
    {
      "cell_type": "code",
      "execution_count": 8,
      "metadata": {
        "id": "CQ2rziofjOSz"
      },
      "outputs": [],
      "source": [
        "# Imports\n",
        "import torch\n",
        "import numpy as np"
      ]
    },
    {
      "cell_type": "markdown",
      "metadata": {
        "id": "Z36Bci5RrnaY"
      },
      "source": [
        "## Load Data"
      ]
    },
    {
      "cell_type": "code",
      "execution_count": 9,
      "metadata": {
        "colab": {
          "base_uri": "https://localhost:8080/"
        },
        "id": "3DiaC0e1jfUa",
        "outputId": "f56b2150-61ee-48e3-d6a2-5248c2fa41ff"
      },
      "outputs": [
        {
          "output_type": "stream",
          "name": "stdout",
          "text": [
            "Loading datasets:  A B Blank C D E F G H I J K L M N O P Q R S T U V W X Y Z \n",
            "\n",
            "Loading datasets:  A B Blank C D E F G H I J K L M N O P Q R S T U V W X Y Z \n",
            "\n",
            "Train dataset count: 24300 \n",
            "Test dataset count: 2700 \n"
          ]
        }
      ],
      "source": [
        "from data_loader import load_datasets\n",
        "\n",
        "size = 100\n",
        "x_train, y_train = load_datasets(size = size)\n",
        "x_test,  y_test = load_datasets(train_or_test_folder=\"Test_Alphabet\",size = size)\n",
        "\n",
        "print(f\"Train dataset count: {len(x_train)} \\nTest dataset count: {len(x_test)} \")"
      ]
    },
    {
      "cell_type": "code",
      "execution_count": 10,
      "metadata": {
        "colab": {
          "base_uri": "https://localhost:8080/"
        },
        "id": "qET4xExw38Hh",
        "outputId": "11b79f31-61e0-4e79-b3a8-763bb5bb931a"
      },
      "outputs": [
        {
          "output_type": "stream",
          "name": "stdout",
          "text": [
            "cuda\n"
          ]
        }
      ],
      "source": [
        "device = torch.device(\"cuda\" if torch.cuda.is_available() else \"cpu\")\n",
        "print(device)"
      ]
    },
    {
      "cell_type": "code",
      "execution_count": 11,
      "metadata": {
        "id": "QX-Oxal_mn2K"
      },
      "outputs": [],
      "source": [
        "from data_loader import alphabet_to_num\n",
        "\n",
        "def one_hot_coding(unique_labels, data):\n",
        "    y_oh = torch.zeros(len(data),unique_labels)\n",
        "    for i, class_word in enumerate(data):\n",
        "        index = alphabet_to_num(class_word)\n",
        "        y_oh[i][index] = 1\n",
        "\n",
        "    return y_oh\n",
        "y_train,y_test = np.array(y_train),np.array(y_test)\n",
        "y_train_oh = one_hot_coding(len(np.unique(y_train)),y_train)\n",
        "y_test_oh = one_hot_coding(len(np.unique(y_train)),y_test)"
      ]
    },
    {
      "cell_type": "code",
      "execution_count": 12,
      "metadata": {
        "colab": {
          "base_uri": "https://localhost:8080/"
        },
        "id": "wUO8ydeXmrJD",
        "outputId": "d150d740-355b-4d3c-db7d-0c01eca38390"
      },
      "outputs": [
        {
          "output_type": "execute_result",
          "data": {
            "text/plain": [
              "(torch.Size([24300, 3, 100, 100]), (24300,))"
            ]
          },
          "metadata": {},
          "execution_count": 12
        }
      ],
      "source": [
        "x_train.shape,y_train.shape"
      ]
    },
    {
      "cell_type": "code",
      "execution_count": 13,
      "metadata": {
        "colab": {
          "base_uri": "https://localhost:8080/"
        },
        "id": "HuSCQSF4mzAL",
        "outputId": "21fea9ec-0079-43c7-b3ac-497360e9ad0c"
      },
      "outputs": [
        {
          "output_type": "stream",
          "name": "stdout",
          "text": [
            "ConvNet(\n",
            "  (conv1): Conv2d(3, 27, kernel_size=(5, 5), stride=(1, 1), padding=(2, 2))\n",
            "  (pool): MaxPool2d(kernel_size=4, stride=4, padding=0, dilation=1, ceil_mode=False)\n",
            "  (conv2): Conv2d(27, 27, kernel_size=(5, 5), stride=(1, 1), padding=(2, 2))\n",
            "  (pool2): MaxPool2d(kernel_size=2, stride=2, padding=0, dilation=1, ceil_mode=False)\n",
            "  (fc1): Linear(in_features=3888, out_features=27, bias=True)\n",
            ")\n"
          ]
        }
      ],
      "source": [
        "import torch\n",
        "import torch.nn as nn\n",
        "import torch.nn.functional as F\n",
        "\n",
        "class ConvNet(nn.Module):\n",
        "    def __init__(self):\n",
        "        super(ConvNet, self).__init__()\n",
        "        # First convolutional layer\n",
        "        self.conv1 = nn.Conv2d(in_channels=3, out_channels=27, kernel_size=5, padding=2)\n",
        "        # Max pooling layer\n",
        "        self.pool = nn.MaxPool2d(kernel_size=4, stride=4)\n",
        "        # Second convolutional layer\n",
        "        self.conv2 = nn.Conv2d(in_channels=27, out_channels=27, kernel_size=5, padding=2)\n",
        "        # Another max pooling layer\n",
        "        self.pool2 = nn.MaxPool2d(kernel_size=2, stride=2)\n",
        "        # Fully connected layer\n",
        "        self.fc1 = nn.Linear(27 * 12 * 12, 27)  # 3x3 is the size after two max pooling layers\n",
        "\n",
        "    def forward(self, x):\n",
        "        x = F.relu(self.conv1(x))\n",
        "        x = self.pool(x)\n",
        "        x = F.relu(self.conv2(x))\n",
        "        x = self.pool2(x)\n",
        "        x = x.view(-1, 27 * 12 * 12)  # Flatten the output of conv2 layer\n",
        "        x = self.fc1(x)\n",
        "        return x\n",
        "\n",
        "# Instantiate the model\n",
        "model = ConvNet()\n",
        "\n",
        "# Print the model architecture\n",
        "print(model)"
      ]
    },
    {
      "cell_type": "code",
      "execution_count": 14,
      "metadata": {
        "colab": {
          "base_uri": "https://localhost:8080/"
        },
        "id": "rnp3kmY9m9zZ",
        "outputId": "cfba2f9c-cd94-4869-90eb-aa8b23907dde"
      },
      "outputs": [
        {
          "output_type": "stream",
          "name": "stderr",
          "text": [
            "<ipython-input-14-e9e157327257>:11: UserWarning: To copy construct from a tensor, it is recommended to use sourceTensor.clone().detach() or sourceTensor.clone().detach().requires_grad_(True), rather than torch.tensor(sourceTensor).\n",
            "  x_train_tensor = torch.tensor(x_train, dtype=torch.float32).to(device)\n",
            "<ipython-input-14-e9e157327257>:12: UserWarning: To copy construct from a tensor, it is recommended to use sourceTensor.clone().detach() or sourceTensor.clone().detach().requires_grad_(True), rather than torch.tensor(sourceTensor).\n",
            "  y_train_oh_tensor = torch.tensor(y_train_oh, dtype=torch.float32).to(device)\n",
            "<ipython-input-14-e9e157327257>:13: UserWarning: To copy construct from a tensor, it is recommended to use sourceTensor.clone().detach() or sourceTensor.clone().detach().requires_grad_(True), rather than torch.tensor(sourceTensor).\n",
            "  x_test_tensor = torch.tensor(x_test, dtype=torch.float32).to(device)\n",
            "<ipython-input-14-e9e157327257>:14: UserWarning: To copy construct from a tensor, it is recommended to use sourceTensor.clone().detach() or sourceTensor.clone().detach().requires_grad_(True), rather than torch.tensor(sourceTensor).\n",
            "  y_test_oh_tensor = torch.tensor(y_test_oh, dtype=torch.float32).to(device)\n"
          ]
        }
      ],
      "source": [
        "import torch.nn as nn\n",
        "from torch.utils.data import TensorDataset, DataLoader\n",
        "import torch.optim as optim\n",
        "from torch.optim.lr_scheduler import StepLR\n",
        "\n",
        "criterion = nn.CrossEntropyLoss()\n",
        "optimizer = optim.RMSprop(model.parameters(),lr=0.001)\n",
        "scheduler = StepLR(optimizer, step_size=5, gamma=0.9)\n",
        "batch_size = 32\n",
        "\n",
        "x_train_tensor = torch.tensor(x_train, dtype=torch.float32).to(device)\n",
        "y_train_oh_tensor = torch.tensor(y_train_oh, dtype=torch.float32).to(device)\n",
        "x_test_tensor = torch.tensor(x_test, dtype=torch.float32).to(device)\n",
        "y_test_oh_tensor = torch.tensor(y_test_oh, dtype=torch.float32).to(device)\n",
        "\n",
        "train_loader = DataLoader(TensorDataset(x_train_tensor,y_train_oh_tensor),\n",
        "                          batch_size=batch_size, shuffle=True)\n",
        "test_loader = DataLoader(TensorDataset(x_test_tensor,y_test_oh_tensor),\n",
        "                          batch_size=batch_size)"
      ]
    },
    {
      "cell_type": "code",
      "execution_count": 15,
      "metadata": {
        "colab": {
          "base_uri": "https://localhost:8080/"
        },
        "id": "s89S3I9pSTDa",
        "outputId": "c535be6e-8671-4c4f-b8af-1ca77cb57889"
      },
      "outputs": [
        {
          "output_type": "execute_result",
          "data": {
            "text/plain": [
              "(24300, 2700)"
            ]
          },
          "metadata": {},
          "execution_count": 15
        }
      ],
      "source": [
        "len(train_loader.dataset),len(test_loader.dataset)"
      ]
    },
    {
      "cell_type": "code",
      "execution_count": 16,
      "metadata": {
        "colab": {
          "base_uri": "https://localhost:8080/"
        },
        "id": "yiinmgBdRos3",
        "outputId": "f196fcdc-775b-40c4-8ef6-5dc820479338"
      },
      "outputs": [
        {
          "output_type": "stream",
          "name": "stdout",
          "text": [
            "32\n"
          ]
        }
      ],
      "source": [
        "print(train_loader.batch_size)"
      ]
    },
    {
      "cell_type": "markdown",
      "metadata": {
        "id": "-H7dH-fvrreq"
      },
      "source": [
        "## Define CNN model"
      ]
    },
    {
      "cell_type": "code",
      "execution_count": 17,
      "metadata": {
        "colab": {
          "base_uri": "https://localhost:8080/"
        },
        "id": "8fS6tCZinAwJ",
        "outputId": "a54a071f-0095-4450-f86b-5490f7a7201b"
      },
      "outputs": [
        {
          "output_type": "stream",
          "name": "stdout",
          "text": [
            "Epoch [1/100], Train Loss: 2.6090966978583316\n",
            "Epoch [2/100], Train Loss: 0.7496502825065895\n",
            "Epoch [3/100], Train Loss: 0.39754157803186174\n",
            "Epoch [4/100], Train Loss: 0.26120248032940757\n",
            "Epoch [5/100], Train Loss: 0.18672650265288943\n",
            "Epoch [6/100], Train Loss: 0.13754700715281837\n",
            "Epoch [7/100], Train Loss: 0.10837702250407066\n",
            "Epoch [8/100], Train Loss: 0.08417156549024975\n",
            "Epoch [9/100], Train Loss: 0.07108972539228421\n",
            "Epoch [10/100], Train Loss: 0.0581486689556896\n",
            "Epoch [11/100], Train Loss: 0.044036162954452354\n",
            "Epoch [12/100], Train Loss: 0.03825784957419636\n",
            "Epoch [13/100], Train Loss: 0.03466612560394768\n",
            "Epoch [14/100], Train Loss: 0.02896564153854739\n",
            "Epoch [15/100], Train Loss: 0.025659943941536017\n",
            "Epoch [16/100], Train Loss: 0.019168377763748842\n",
            "Epoch [17/100], Train Loss: 0.01658989861630547\n",
            "Epoch [18/100], Train Loss: 0.014541790097043561\n",
            "Epoch [19/100], Train Loss: 0.014013987877688835\n",
            "Epoch [20/100], Train Loss: 0.012005853410771906\n",
            "Epoch [21/100], Train Loss: 0.008682645116899155\n",
            "Epoch [22/100], Train Loss: 0.00854314778487336\n",
            "Epoch [23/100], Train Loss: 0.0075774911207476545\n",
            "Epoch [24/100], Train Loss: 0.007116682362983936\n",
            "Epoch [25/100], Train Loss: 0.006154687123123073\n",
            "Epoch [26/100], Train Loss: 0.004390256475439724\n",
            "Epoch [27/100], Train Loss: 0.003950400058818582\n",
            "Epoch [28/100], Train Loss: 0.004452797289897732\n",
            "Epoch [29/100], Train Loss: 0.0037658284186148907\n",
            "Epoch [30/100], Train Loss: 0.003984034846096006\n",
            "Epoch [31/100], Train Loss: 0.0020226439225556636\n",
            "Epoch [32/100], Train Loss: 0.002664730411782745\n",
            "Epoch [33/100], Train Loss: 0.002346158654357397\n",
            "Epoch [34/100], Train Loss: 0.0019305975369650007\n",
            "Epoch [35/100], Train Loss: 0.0019237287311611327\n",
            "Epoch [36/100], Train Loss: 0.0011870869880317232\n",
            "Epoch [37/100], Train Loss: 0.0020689834584051597\n",
            "Epoch [38/100], Train Loss: 0.001167419921214117\n",
            "Epoch [39/100], Train Loss: 0.000928793165154507\n",
            "Epoch [40/100], Train Loss: 0.001621627567962564\n",
            "Epoch [41/100], Train Loss: 0.0005764993897291826\n",
            "Epoch [42/100], Train Loss: 0.0006834124283472223\n",
            "Epoch [43/100], Train Loss: 0.00047097628517620574\n",
            "Epoch [44/100], Train Loss: 0.0016535359604098435\n",
            "Epoch [45/100], Train Loss: 0.0005290577162045544\n",
            "Epoch [46/100], Train Loss: 0.000643842653600751\n",
            "Epoch [47/100], Train Loss: 0.0001870606191260466\n",
            "Epoch [48/100], Train Loss: 0.0004199503627365375\n",
            "Epoch [49/100], Train Loss: 0.0004885889515405115\n",
            "Epoch [50/100], Train Loss: 8.408034766678446e-05\n",
            "Epoch [51/100], Train Loss: 0.00031509195802545534\n",
            "Epoch [52/100], Train Loss: 0.0005699602108762396\n",
            "Epoch [53/100], Train Loss: 0.00011373532820028103\n",
            "Epoch [54/100], Train Loss: 0.0003144914626815162\n",
            "Epoch [55/100], Train Loss: 0.0001847914983625802\n",
            "Epoch [56/100], Train Loss: 3.087023155689197e-05\n",
            "Epoch [57/100], Train Loss: 0.0002025436654149845\n",
            "Epoch [58/100], Train Loss: 0.00015217179657627176\n",
            "Epoch [59/100], Train Loss: 3.710371823791009e-05\n",
            "Epoch [60/100], Train Loss: 2.7146954834283523e-05\n",
            "Epoch [61/100], Train Loss: 2.9727185122614353e-05\n",
            "Epoch [62/100], Train Loss: 0.00013379761198896616\n",
            "Epoch [63/100], Train Loss: 3.579260854427991e-05\n",
            "Epoch [64/100], Train Loss: 0.0006077930835478436\n",
            "Epoch [65/100], Train Loss: 2.2375339247965937e-05\n",
            "Epoch [66/100], Train Loss: 6.8722918520272075e-06\n",
            "Epoch [67/100], Train Loss: 1.752543337513299e-05\n",
            "Epoch [68/100], Train Loss: 1.1329932214160858e-05\n",
            "Epoch [69/100], Train Loss: 3.0459982220392647e-05\n",
            "Epoch [70/100], Train Loss: 7.383080195647546e-06\n",
            "Epoch [71/100], Train Loss: 1.9541094460976884e-05\n",
            "Epoch [72/100], Train Loss: 2.965903973759802e-06\n",
            "Epoch [73/100], Train Loss: 2.331640737646797e-06\n",
            "Epoch [74/100], Train Loss: 4.923303982547352e-06\n",
            "Epoch [75/100], Train Loss: 4.385535644661238e-06\n",
            "Epoch [76/100], Train Loss: 2.2563925917605047e-06\n",
            "Epoch [77/100], Train Loss: 1.2371793540857444e-06\n",
            "Epoch [78/100], Train Loss: 2.415727086260391e-06\n",
            "Epoch [79/100], Train Loss: 2.2995138149006045e-06\n",
            "Epoch [80/100], Train Loss: 2.0286321574147277e-06\n",
            "Epoch [81/100], Train Loss: 5.950441944404409e-07\n",
            "Epoch [82/100], Train Loss: 3.0390601959844187e-06\n",
            "Epoch [83/100], Train Loss: 3.6586112277792545e-07\n",
            "Epoch [84/100], Train Loss: 6.597769883725085e-07\n",
            "Epoch [85/100], Train Loss: 2.700169402291022e-07\n",
            "Epoch [86/100], Train Loss: 6.768963229794623e-07\n",
            "Epoch [87/100], Train Loss: 2.0286315063637177e-07\n",
            "Epoch [88/100], Train Loss: 4.805817155709242e-06\n",
            "Epoch [89/100], Train Loss: 1.552210145690333e-07\n",
            "Epoch [90/100], Train Loss: 3.698041468138561e-07\n",
            "Epoch [91/100], Train Loss: 1.0847444178386501e-07\n",
            "Epoch [92/100], Train Loss: 1.345419056473074e-07\n",
            "Epoch [93/100], Train Loss: 1.2272166473248495e-07\n",
            "Epoch [94/100], Train Loss: 1.3173581225640615e-07\n",
            "Epoch [95/100], Train Loss: 9.59343468198612e-08\n",
            "Epoch [96/100], Train Loss: 6.620717659693152e-08\n",
            "Epoch [97/100], Train Loss: 6.890001473025999e-08\n",
            "Epoch [98/100], Train Loss: 5.54581214446785e-08\n",
            "Epoch [99/100], Train Loss: 3.14852805765481e-07\n",
            "Epoch [100/100], Train Loss: 1.19498580329e-07\n"
          ]
        }
      ],
      "source": [
        "def train_model(model, criterion, optimizer, device, num_epochs=100):\n",
        "    model.to(device)  # Move the model to the device outside the loop\n",
        "    for epoch in range(num_epochs):\n",
        "        running_loss = 0\n",
        "        for inputs, labels in train_loader:\n",
        "            inputs, labels = inputs.to(device), labels.to(device)  # Move inputs and labels to device\n",
        "            # print(f\"Inputs size from train_loader: {inputs.size()}\")  # Print sizes for debugging\n",
        "            # print(f\"Labels size from train_loader: {labels.size()}\")\n",
        "            optimizer.zero_grad()\n",
        "            outputs = model(inputs)\n",
        "            # print(f\"Output Tensor size from Model: {outputs.size()}\")\n",
        "            loss = criterion(outputs, labels)\n",
        "            loss.backward()\n",
        "            optimizer.step()\n",
        "            running_loss += loss.item() * inputs.size(0)\n",
        "        epoch_loss = running_loss / len(train_loader.dataset)\n",
        "        scheduler.step()\n",
        "        print(f\"Epoch [{epoch+1}/{num_epochs}], Train Loss: {epoch_loss}\")\n",
        "        # Learnig rate:{scheduler.get_last_lr()}\n",
        "\n",
        "# Call the function to train the model\n",
        "train_model(model=model, criterion=criterion, optimizer=optimizer, device=device)"
      ]
    },
    {
      "cell_type": "code",
      "execution_count": 18,
      "metadata": {
        "id": "EfyGJXaSnGaT",
        "colab": {
          "base_uri": "https://localhost:8080/"
        },
        "outputId": "2ca14b0e-f5ac-4802-98e8-f14fb18ff7fc"
      },
      "outputs": [
        {
          "output_type": "stream",
          "name": "stdout",
          "text": [
            "Total accurate predictions: 2573 out of 2700\n",
            "Accuracy on test set: 0.9530\n"
          ]
        }
      ],
      "source": [
        "def test_model(model, test_loader):\n",
        "    model.eval()  # Set the model to evaluation mode\n",
        "    correct = 0\n",
        "    total = 0\n",
        "    test_labels,test_outputs = [],[]\n",
        "    with torch.no_grad():\n",
        "        for inputs, labels in test_loader:\n",
        "          inputs, labels = inputs.to(device), labels.to(device)\n",
        "          outputs = model(inputs)\n",
        "          _, predicted = torch.max(outputs, 1)\n",
        "          _, labels_indices = torch.max(labels, 1)  # Convert one-hot labels to indices\n",
        "          test_labels += [a.cpu().tolist() for a in labels_indices]\n",
        "          test_outputs += [b.cpu().tolist() for b in predicted]\n",
        "          total += labels.size(0)\n",
        "          correct += (predicted == labels_indices).sum().item()\n",
        "    accuracy = correct / total\n",
        "    print(f\"Total accurate predictions: {correct} out of {total}\")\n",
        "    print(f\"Accuracy on test set: {accuracy:.4f}\")\n",
        "    return test_labels,test_outputs\n",
        "\n",
        "test_labels,test_outputs = test_model(model=model,test_loader=test_loader)\n",
        "\n",
        "# Save the model\n",
        "torch.save(model.state_dict(), 'code/asl_cnn_model.pth')"
      ]
    },
    {
      "cell_type": "code",
      "source": [
        "!pip install -U scikit-learn"
      ],
      "metadata": {
        "id": "b0e5OiWEpeWt"
      },
      "execution_count": null,
      "outputs": []
    },
    {
      "cell_type": "code",
      "source": [
        "def num_to_char(array_data):\n",
        "  lables = \"ABCDEFGHIJKLMNOPQRSTUVWXYZ\"\n",
        "  return [lables[a] if a !=26 else \"NONE\" for a in array_data]\n",
        "\n"
      ],
      "metadata": {
        "collapsed": true,
        "id": "rPQE45v84ZcO"
      },
      "execution_count": 20,
      "outputs": []
    },
    {
      "cell_type": "code",
      "source": [
        "from sklearn.metrics import confusion_matrix\n",
        "import seaborn as sn\n",
        "import matplotlib.pyplot as plt\n",
        "\n",
        "cm = confusion_matrix(test_labels,test_outputs)\n",
        "label_list = list(\"ABCDEFGHIJKLMNOPQRSTUVWXYZ\")+ [\"NA\"]\n",
        "plt.figure(figsize=(15, 9))\n",
        "heatmap = sn.heatmap(cm,\n",
        "           vmax = 6,\n",
        "           annot=True,\n",
        "           fmt=\"d\",\n",
        "           xticklabels=label_list,\n",
        "           yticklabels = label_list\n",
        "\n",
        "           )\n",
        "heatmap.tick_params(top=True, bottom=True, left=True, right=True)\n",
        "# Set labels and title\n",
        "plt.ylabel('Prediction')\n",
        "plt.xlabel('Actual')\n",
        "plt.title('Confusion Matrix', fontsize=17)\n",
        "plt.savefig(\"code/static/confusion_matrix.png\")\n",
        "plt.show()"
      ],
      "metadata": {
        "id": "W-VLNDPNmy1m",
        "outputId": "5c6c5a2d-e811-4594-cabf-f76823c93b21",
        "colab": {
          "base_uri": "https://localhost:8080/",
          "height": 800
        }
      },
      "execution_count": 37,
      "outputs": [
        {
          "output_type": "display_data",
          "data": {
            "text/plain": [
              "<Figure size 1500x900 with 2 Axes>"
            ],
            "image/png": "[encoded data removed]"
          },
          "metadata": {}
        }
      ]
    },
    {
      "cell_type": "code",
      "source": [
        "from sklearn.metrics import classification_report\n",
        "\n",
        "print(classification_report(test_labels,test_outputs))"
      ],
      "metadata": {
        "colab": {
          "base_uri": "https://localhost:8080/"
        },
        "id": "Vodc8WlBV4Ze",
        "outputId": "f58a38fd-92fe-4b6f-ecac-b2f05bf26c16"
      },
      "execution_count": 39,
      "outputs": [
        {
          "output_type": "stream",
          "name": "stdout",
          "text": [
            "              precision    recall  f1-score   support\n",
            "\n",
            "           0       0.95      0.95      0.95       100\n",
            "           1       0.93      0.98      0.96       100\n",
            "           2       0.97      0.98      0.98       100\n",
            "           3       0.99      0.97      0.98       100\n",
            "           4       0.93      0.94      0.94       100\n",
            "           5       0.98      0.99      0.99       100\n",
            "           6       0.99      1.00      1.00       100\n",
            "           7       0.98      0.99      0.99       100\n",
            "           8       1.00      1.00      1.00       100\n",
            "           9       0.98      0.94      0.96       100\n",
            "          10       0.98      0.94      0.96       100\n",
            "          11       0.99      0.97      0.98       100\n",
            "          12       0.89      0.90      0.90       100\n",
            "          13       0.95      0.93      0.94       100\n",
            "          14       0.98      0.97      0.97       100\n",
            "          15       0.85      0.94      0.90       100\n",
            "          16       0.90      0.83      0.86       100\n",
            "          17       0.95      0.94      0.94       100\n",
            "          18       0.99      0.93      0.96       100\n",
            "          19       0.94      0.95      0.95       100\n",
            "          20       0.93      0.96      0.95       100\n",
            "          21       0.97      0.96      0.96       100\n",
            "          22       0.93      0.96      0.95       100\n",
            "          23       0.96      0.96      0.96       100\n",
            "          24       0.95      0.97      0.96       100\n",
            "          25       0.93      0.93      0.93       100\n",
            "          26       0.94      0.95      0.95       100\n",
            "\n",
            "    accuracy                           0.95      2700\n",
            "   macro avg       0.95      0.95      0.95      2700\n",
            "weighted avg       0.95      0.95      0.95      2700\n",
            "\n"
          ]
        }
      ]
    },
    {
      "cell_type": "code",
      "execution_count": null,
      "metadata": {
        "colab": {
          "base_uri": "https://localhost:8080/"
        },
        "id": "oBEF_VHeJGt0",
        "outputId": "abeae4dd-7c4a-4b01-aaab-5fddf9028af9"
      },
      "outputs": [
        {
          "output_type": "execute_result",
          "data": {
            "text/plain": [
              "ConvNet(\n",
              "  (conv1): Conv2d(3, 27, kernel_size=(5, 5), stride=(1, 1), padding=(2, 2))\n",
              "  (pool): MaxPool2d(kernel_size=4, stride=4, padding=0, dilation=1, ceil_mode=False)\n",
              "  (conv2): Conv2d(27, 27, kernel_size=(5, 5), stride=(1, 1), padding=(2, 2))\n",
              "  (pool2): MaxPool2d(kernel_size=2, stride=2, padding=0, dilation=1, ceil_mode=False)\n",
              "  (fc1): Linear(in_features=3888, out_features=27, bias=True)\n",
              ")"
            ]
          },
          "metadata": {},
          "execution_count": 10
        }
      ],
      "source": [
        "model.load_state_dict(torch.load('code/static/asl_cnn_model.pth'))\n",
        "model.eval()\n"
      ]
    }
  ],
  "metadata": {
    "accelerator": "GPU",
    "colab": {
      "gpuType": "T4",
      "provenance": [],
      "include_colab_link": true
    },
    "kernelspec": {
      "display_name": "Python 3",
      "name": "python3"
    },
    "language_info": {
      "name": "python"
    }
  },
  "nbformat": 4,
  "nbformat_minor": 0
}