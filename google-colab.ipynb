{
  "cells": [
    {
      "cell_type": "markdown",
      "metadata": {
        "id": "view-in-github",
        "colab_type": "text"
      },
      "source": [
        "<a href=\"https://colab.research.google.com/github/AmitAaranya/ASL-Recognition-with-CNN-PyTorch/blob/main/google-colab.ipynb\" target=\"_parent\"><img src=\"https://colab.research.google.com/assets/colab-badge.svg\" alt=\"Open In Colab\"/></a>"
      ]
    },
    {
      "cell_type": "markdown",
      "metadata": {
        "id": "s-y-mBcJqaxY"
      },
      "source": [
        "# Clone GitHub repo\n",
        "**URL:** https://github.com/AmitAaranya/ASL-Recognition-with-Deep-Learning-PyTorch"
      ]
    },
    {
      "cell_type": "code",
      "execution_count": 1,
      "metadata": {
        "colab": {
          "base_uri": "https://localhost:8080/"
        },
        "id": "EI2B9fs6dZNs",
        "outputId": "45952dcc-52fe-4ae4-cc18-aad332cc4b7a"
      },
      "outputs": [
        {
          "output_type": "stream",
          "name": "stdout",
          "text": [
            "Cloning into './code'...\n",
            "remote: Enumerating objects: 122, done.\u001b[K\n",
            "remote: Counting objects: 100% (122/122), done.\u001b[K\n",
            "remote: Compressing objects: 100% (91/91), done.\u001b[K\n",
            "remote: Total 122 (delta 53), reused 72 (delta 20), pack-reused 0\u001b[K\n",
            "Receiving objects: 100% (122/122), 2.63 MiB | 14.79 MiB/s, done.\n",
            "Resolving deltas: 100% (53/53), done.\n"
          ]
        }
      ],
      "source": [
        "!git clone https://github.com/AmitAaranya/ASL-Recognition-with-Deep-Learning-PyTorch.git ./code/"
      ]
    },
    {
      "cell_type": "code",
      "execution_count": null,
      "metadata": {
        "id": "n-t-2sWVOEnf"
      },
      "outputs": [],
      "source": [
        "!git config --global user.email \"amitaaranya@gmail.com\"\n",
        "!git config --global user.name \"AMIT\""
      ]
    },
    {
      "cell_type": "code",
      "execution_count": null,
      "metadata": {
        "colab": {
          "base_uri": "https://localhost:8080/"
        },
        "id": "zhpnvxWbgTRr",
        "outputId": "b4329ba3-a216-40d6-d5d9-d11d3232f71b"
      },
      "outputs": [
        {
          "name": "stdout",
          "output_type": "stream",
          "text": [
            "On branch main\n",
            "Your branch is up to date with 'origin/main'.\n",
            "\n",
            "Changes not staged for commit:\n",
            "  (use \"git add/rm <file>...\" to update what will be committed)\n",
            "  (use \"git restore <file>...\" to discard changes in working directory)\n",
            "\t\u001b[31mdeleted:    .gitignore\u001b[m\n",
            "\t\u001b[31mdeleted:    README.md\u001b[m\n",
            "\t\u001b[31mdeleted:    asl-image-labels.png\u001b[m\n",
            "\t\u001b[31mdeleted:    data-set-distribution.png\u001b[m\n",
            "\t\u001b[31mdeleted:    data_loader.py\u001b[m\n",
            "\t\u001b[31mdeleted:    google-colab.ipynb\u001b[m\n",
            "\t\u001b[31mdeleted:    notebook.ipynb\u001b[m\n",
            "\t\u001b[31mdeleted:    requirements.txt\u001b[m\n",
            "\n",
            "Untracked files:\n",
            "  (use \"git add <file>...\" to include in what will be committed)\n",
            "\t\u001b[31m.config/\u001b[m\n",
            "\t\u001b[31masl_cnn_model.pth\u001b[m\n",
            "\t\u001b[31mcode/\u001b[m\n",
            "\t\u001b[31mdatasets/\u001b[m\n",
            "\t\u001b[31msample_data/\u001b[m\n",
            "\t\u001b[31msynthetic-asl-alphabet.zip\u001b[m\n",
            "\n",
            "no changes added to commit (use \"git add\" and/or \"git commit -a\")\n"
          ]
        }
      ],
      "source": [
        "!git --git-dir=./code/.git commit -m \"Model save\""
      ]
    },
    {
      "cell_type": "code",
      "execution_count": 2,
      "metadata": {
        "id": "-BRc3NMmk0YI"
      },
      "outputs": [],
      "source": [
        "## Add the folder to system path, so we can import file directly\n",
        "import sys\n",
        "sys.path.append('/content/code')"
      ]
    },
    {
      "cell_type": "code",
      "execution_count": null,
      "metadata": {
        "id": "TTGL6GNs0aD0",
        "outputId": "66ca4bb0-5882-4771-ad74-15cdee6dfda0",
        "colab": {
          "base_uri": "https://localhost:8080/"
        }
      },
      "outputs": [
        {
          "output_type": "stream",
          "name": "stdout",
          "text": [
            "\u001b[31mERROR: Operation cancelled by user\u001b[0m\u001b[31m\n",
            "\u001b[0m"
          ]
        }
      ],
      "source": [
        "!pip install -r code/requirements.txt > /dev/null"
      ]
    },
    {
      "cell_type": "code",
      "execution_count": null,
      "metadata": {
        "colab": {
          "base_uri": "https://localhost:8080/"
        },
        "id": "rnJspfI8Gtrh",
        "outputId": "909efe51-41e6-4c76-eb53-3d8eba8711ff"
      },
      "outputs": [
        {
          "output_type": "stream",
          "name": "stdout",
          "text": [
            "Requirement already satisfied: kaggle in /usr/local/lib/python3.10/dist-packages (1.6.12)\n",
            "Requirement already satisfied: six>=1.10 in /usr/local/lib/python3.10/dist-packages (from kaggle) (1.16.0)\n",
            "Requirement already satisfied: certifi>=2023.7.22 in /usr/local/lib/python3.10/dist-packages (from kaggle) (2024.2.2)\n",
            "Requirement already satisfied: python-dateutil in /usr/local/lib/python3.10/dist-packages (from kaggle) (2.8.2)\n",
            "Requirement already satisfied: requests in /usr/local/lib/python3.10/dist-packages (from kaggle) (2.31.0)\n",
            "Requirement already satisfied: tqdm in /usr/local/lib/python3.10/dist-packages (from kaggle) (4.66.4)\n",
            "Requirement already satisfied: python-slugify in /usr/local/lib/python3.10/dist-packages (from kaggle) (8.0.4)\n",
            "Requirement already satisfied: urllib3 in /usr/local/lib/python3.10/dist-packages (from kaggle) (2.0.7)\n",
            "Requirement already satisfied: bleach in /usr/local/lib/python3.10/dist-packages (from kaggle) (6.1.0)\n",
            "Requirement already satisfied: webencodings in /usr/local/lib/python3.10/dist-packages (from bleach->kaggle) (0.5.1)\n",
            "Requirement already satisfied: text-unidecode>=1.3 in /usr/local/lib/python3.10/dist-packages (from python-slugify->kaggle) (1.3)\n",
            "Requirement already satisfied: charset-normalizer<4,>=2 in /usr/local/lib/python3.10/dist-packages (from requests->kaggle) (3.3.2)\n",
            "Requirement already satisfied: idna<4,>=2.5 in /usr/local/lib/python3.10/dist-packages (from requests->kaggle) (3.7)\n"
          ]
        }
      ],
      "source": [
        "!pip install kaggle"
      ]
    },
    {
      "cell_type": "markdown",
      "metadata": {
        "id": "28879DrVqA5c"
      },
      "source": [
        "# Load the ASL Image Data\n",
        "**URL:** https://www.kaggle.com/datasets/lexset/synthetic-asl-alphabet\n"
      ]
    },
    {
      "cell_type": "code",
      "execution_count": null,
      "metadata": {
        "id": "qdwPHrcNev3I"
      },
      "outputs": [],
      "source": [
        "!echo \"{\\\"username\\\":\\\"amitaaranya\\\",\\\"key\\\":\\\"e8845441bb41bfd733339ef7c8f50fa\\\"}\" > /root/.kaggle/kaggle.json"
      ]
    },
    {
      "cell_type": "code",
      "execution_count": 3,
      "metadata": {
        "colab": {
          "base_uri": "https://localhost:8080/"
        },
        "id": "AJGYtwHBc12L",
        "outputId": "8931fcb4-849f-4edd-de0f-59fe671e6683"
      },
      "outputs": [
        {
          "output_type": "stream",
          "name": "stdout",
          "text": [
            "Dataset URL: https://www.kaggle.com/datasets/lexset/synthetic-asl-alphabet\n",
            "License(s): copyright-authors\n",
            "Downloading synthetic-asl-alphabet.zip to /content\n",
            "100% 6.57G/6.58G [01:14<00:00, 168MB/s]\n",
            "100% 6.58G/6.58G [01:14<00:00, 94.6MB/s]\n"
          ]
        }
      ],
      "source": [
        "!kaggle datasets download -d lexset/synthetic-asl-alphabet"
      ]
    },
    {
      "cell_type": "code",
      "execution_count": 4,
      "metadata": {
        "id": "-I9T9ZBYi9-g"
      },
      "outputs": [],
      "source": [
        "!mkdir datasets"
      ]
    },
    {
      "cell_type": "code",
      "execution_count": 5,
      "metadata": {
        "id": "dQOIq70ShFr8"
      },
      "outputs": [],
      "source": [
        "!unzip synthetic-asl-alphabet.zip -d ./datasets/ > /dev/null"
      ]
    },
    {
      "cell_type": "markdown",
      "metadata": {
        "id": "74s_T0FUrORM"
      },
      "source": [
        "# Exploratory Data Analysis(EDA)"
      ]
    },
    {
      "cell_type": "code",
      "execution_count": 6,
      "metadata": {
        "id": "CQ2rziofjOSz"
      },
      "outputs": [],
      "source": [
        "# Imports\n",
        "import torch\n",
        "import numpy as np"
      ]
    },
    {
      "cell_type": "markdown",
      "metadata": {
        "id": "Z36Bci5RrnaY"
      },
      "source": [
        "## Load Data"
      ]
    },
    {
      "cell_type": "code",
      "execution_count": 7,
      "metadata": {
        "colab": {
          "base_uri": "https://localhost:8080/"
        },
        "id": "3DiaC0e1jfUa",
        "outputId": "66748067-1cac-4966-e3d1-edaf3adee137"
      },
      "outputs": [
        {
          "output_type": "stream",
          "name": "stdout",
          "text": [
            "Loading datasets:  A B Blank C D E F G H I J K L M N O P Q R S T U V W X Y Z \n",
            "\n",
            "Loading datasets:  A B Blank C D E F G H I J K L M N O P Q R S T U V W X Y Z \n",
            "\n",
            "Train dataset count: 24300 \n",
            "Test dataset count: 2700 \n"
          ]
        }
      ],
      "source": [
        "from data_loader import load_datasets\n",
        "\n",
        "size = 100\n",
        "x_train, y_train = load_datasets(size = size)\n",
        "x_test,  y_test = load_datasets(train_or_test_folder=\"Test_Alphabet\",size = size)\n",
        "\n",
        "print(f\"Train dataset count: {len(x_train)} \\nTest dataset count: {len(x_test)} \")"
      ]
    },
    {
      "cell_type": "code",
      "execution_count": 8,
      "metadata": {
        "colab": {
          "base_uri": "https://localhost:8080/"
        },
        "id": "qET4xExw38Hh",
        "outputId": "dc545fce-4e86-47ed-ad77-af57172fa06a"
      },
      "outputs": [
        {
          "output_type": "stream",
          "name": "stdout",
          "text": [
            "cuda\n"
          ]
        }
      ],
      "source": [
        "device = torch.device(\"cuda\" if torch.cuda.is_available() else \"cpu\")\n",
        "print(device)"
      ]
    },
    {
      "cell_type": "code",
      "execution_count": 9,
      "metadata": {
        "id": "QX-Oxal_mn2K"
      },
      "outputs": [],
      "source": [
        "from data_loader import alphabet_to_num\n",
        "\n",
        "def one_hot_coding(unique_labels, data):\n",
        "    y_oh = torch.zeros(len(data),unique_labels)\n",
        "    for i, class_word in enumerate(data):\n",
        "        index = alphabet_to_num(class_word)\n",
        "        y_oh[i][index] = 1\n",
        "\n",
        "    return y_oh\n",
        "y_train,y_test = np.array(y_train),np.array(y_test)\n",
        "y_train_oh = one_hot_coding(len(np.unique(y_train)),y_train)\n",
        "y_test_oh = one_hot_coding(len(np.unique(y_train)),y_test)"
      ]
    },
    {
      "cell_type": "code",
      "execution_count": null,
      "metadata": {
        "colab": {
          "base_uri": "https://localhost:8080/"
        },
        "id": "wUO8ydeXmrJD",
        "outputId": "d150d740-355b-4d3c-db7d-0c01eca38390"
      },
      "outputs": [
        {
          "output_type": "execute_result",
          "data": {
            "text/plain": [
              "(torch.Size([24300, 3, 100, 100]), (24300,))"
            ]
          },
          "metadata": {},
          "execution_count": 12
        }
      ],
      "source": [
        "x_train.shape,y_train.shape"
      ]
    },
    {
      "cell_type": "code",
      "execution_count": 21,
      "metadata": {
        "colab": {
          "base_uri": "https://localhost:8080/"
        },
        "id": "HuSCQSF4mzAL",
        "outputId": "8b40f673-de19-450a-9ffe-1ecd3b2238c4"
      },
      "outputs": [
        {
          "output_type": "stream",
          "name": "stdout",
          "text": [
            "ConvNet(\n",
            "  (conv1): Conv2d(3, 27, kernel_size=(5, 5), stride=(1, 1), padding=(2, 2))\n",
            "  (pool): MaxPool2d(kernel_size=4, stride=4, padding=0, dilation=1, ceil_mode=False)\n",
            "  (conv2): Conv2d(27, 27, kernel_size=(5, 5), stride=(1, 1), padding=(2, 2))\n",
            "  (pool2): MaxPool2d(kernel_size=2, stride=2, padding=0, dilation=1, ceil_mode=False)\n",
            "  (fc1): Linear(in_features=3888, out_features=270, bias=True)\n",
            "  (dropout): Dropout(p=0.5, inplace=False)\n",
            "  (fc2): Linear(in_features=270, out_features=27, bias=True)\n",
            ")\n"
          ]
        }
      ],
      "source": [
        "import torch\n",
        "import torch.nn as nn\n",
        "import torch.nn.functional as F\n",
        "\n",
        "class ConvNet(nn.Module):\n",
        "    def __init__(self):\n",
        "        super(ConvNet, self).__init__()\n",
        "        # First convolutional layer\n",
        "        self.conv1 = nn.Conv2d(in_channels=3, out_channels=27, kernel_size=5, padding=2)\n",
        "        # Max pooling layer\n",
        "        self.pool = nn.MaxPool2d(kernel_size=4, stride=4)\n",
        "        # Second convolutional layer\n",
        "        self.conv2 = nn.Conv2d(in_channels=27, out_channels=27, kernel_size=5, padding=2)\n",
        "        # Another max pooling layer\n",
        "        self.pool2 = nn.MaxPool2d(kernel_size=2, stride=2)\n",
        "        # Fully connected layer\n",
        "        self.fc1 = nn.Linear(27 * 12 * 12, 270)  # 3x3 is the size after two max pooling layers\n",
        "        self.dropout = nn.Dropout(p = 0.5)\n",
        "        self.fc2 = nn.Linear(270,27)\n",
        "\n",
        "    def forward(self, x):\n",
        "        x = F.relu(self.conv1(x))\n",
        "        x = self.pool(x)\n",
        "        x = F.relu(self.conv2(x))\n",
        "        x = self.pool2(x)\n",
        "        x = x.view(-1, 27 * 12 * 12)  # Flatten the output of conv2 layer\n",
        "        x = self.fc1(x)\n",
        "        x = self.dropout(x)\n",
        "        x = self.fc2(x)\n",
        "        return x\n",
        "\n",
        "# Instantiate the model\n",
        "model = ConvNet()\n",
        "\n",
        "# Print the model architecture\n",
        "print(model)"
      ]
    },
    {
      "cell_type": "code",
      "execution_count": 22,
      "metadata": {
        "colab": {
          "base_uri": "https://localhost:8080/"
        },
        "id": "rnp3kmY9m9zZ",
        "outputId": "d2964176-34c6-4990-954e-5c67e028a4c6"
      },
      "outputs": [
        {
          "output_type": "stream",
          "name": "stderr",
          "text": [
            "<ipython-input-22-cb26553e68c2>:11: UserWarning: To copy construct from a tensor, it is recommended to use sourceTensor.clone().detach() or sourceTensor.clone().detach().requires_grad_(True), rather than torch.tensor(sourceTensor).\n",
            "  x_train_tensor = torch.tensor(x_train, dtype=torch.float32).to(device)\n",
            "<ipython-input-22-cb26553e68c2>:12: UserWarning: To copy construct from a tensor, it is recommended to use sourceTensor.clone().detach() or sourceTensor.clone().detach().requires_grad_(True), rather than torch.tensor(sourceTensor).\n",
            "  y_train_oh_tensor = torch.tensor(y_train_oh, dtype=torch.float32).to(device)\n",
            "<ipython-input-22-cb26553e68c2>:13: UserWarning: To copy construct from a tensor, it is recommended to use sourceTensor.clone().detach() or sourceTensor.clone().detach().requires_grad_(True), rather than torch.tensor(sourceTensor).\n",
            "  x_test_tensor = torch.tensor(x_test, dtype=torch.float32).to(device)\n",
            "<ipython-input-22-cb26553e68c2>:14: UserWarning: To copy construct from a tensor, it is recommended to use sourceTensor.clone().detach() or sourceTensor.clone().detach().requires_grad_(True), rather than torch.tensor(sourceTensor).\n",
            "  y_test_oh_tensor = torch.tensor(y_test_oh, dtype=torch.float32).to(device)\n"
          ]
        }
      ],
      "source": [
        "import torch.nn as nn\n",
        "from torch.utils.data import TensorDataset, DataLoader\n",
        "import torch.optim as optim\n",
        "from torch.optim.lr_scheduler import StepLR\n",
        "\n",
        "criterion = nn.CrossEntropyLoss()\n",
        "optimizer = optim.Adam(model.parameters(),lr=0.001)\n",
        "scheduler = StepLR(optimizer, step_size=5, gamma=0.9)\n",
        "batch_size = 32\n",
        "\n",
        "x_train_tensor = torch.tensor(x_train, dtype=torch.float32).to(device)\n",
        "y_train_oh_tensor = torch.tensor(y_train_oh, dtype=torch.float32).to(device)\n",
        "x_test_tensor = torch.tensor(x_test, dtype=torch.float32).to(device)\n",
        "y_test_oh_tensor = torch.tensor(y_test_oh, dtype=torch.float32).to(device)\n",
        "\n",
        "train_loader = DataLoader(TensorDataset(x_train_tensor,y_train_oh_tensor),\n",
        "                          batch_size=batch_size, shuffle=True)\n",
        "test_loader = DataLoader(TensorDataset(x_test_tensor,y_test_oh_tensor),\n",
        "                          batch_size=batch_size)"
      ]
    },
    {
      "cell_type": "code",
      "execution_count": 23,
      "metadata": {
        "colab": {
          "base_uri": "https://localhost:8080/"
        },
        "id": "s89S3I9pSTDa",
        "outputId": "081b36d3-7bac-4462-a23f-1cb4c462fdce"
      },
      "outputs": [
        {
          "output_type": "execute_result",
          "data": {
            "text/plain": [
              "(24300, 2700)"
            ]
          },
          "metadata": {},
          "execution_count": 23
        }
      ],
      "source": [
        "len(train_loader.dataset),len(test_loader.dataset)"
      ]
    },
    {
      "cell_type": "code",
      "execution_count": 24,
      "metadata": {
        "colab": {
          "base_uri": "https://localhost:8080/"
        },
        "id": "yiinmgBdRos3",
        "outputId": "90866b5b-7cc4-439a-b318-35b4d4d71b83"
      },
      "outputs": [
        {
          "output_type": "stream",
          "name": "stdout",
          "text": [
            "32\n"
          ]
        }
      ],
      "source": [
        "print(train_loader.batch_size)"
      ]
    },
    {
      "cell_type": "markdown",
      "metadata": {
        "id": "-H7dH-fvrreq"
      },
      "source": [
        "## Define CNN model"
      ]
    },
    {
      "cell_type": "code",
      "execution_count": 28,
      "metadata": {
        "colab": {
          "base_uri": "https://localhost:8080/"
        },
        "id": "8fS6tCZinAwJ",
        "outputId": "5b8f748c-ac70-4f43-e415-607cefcc108b"
      },
      "outputs": [
        {
          "output_type": "stream",
          "name": "stdout",
          "text": [
            "Epoch [1/50], Train Loss: 0.1142540606592663, Train Error: 3.8436213991769543%\n",
            "Epoch [2/50], Train Loss: 0.11207585116718041, Train Error: 3.7654320987654324%\n",
            "Epoch [3/50], Train Loss: 0.11292544849615528, Train Error: 3.7901234567901234%\n",
            "Epoch [4/50], Train Loss: 0.1108759651642768, Train Error: 3.6790123456790123%\n",
            "Epoch [5/50], Train Loss: 0.10667586941655281, Train Error: 3.5267489711934155%\n",
            "Epoch [6/50], Train Loss: 0.1046370421785386, Train Error: 3.411522633744856%\n",
            "Epoch [7/50], Train Loss: 0.10473984368636038, Train Error: 3.4650205761316872%\n",
            "Epoch [8/50], Train Loss: 0.1034645004303735, Train Error: 3.3621399176954734%\n",
            "Epoch [9/50], Train Loss: 0.10126285920908422, Train Error: 3.2098765432098766%\n",
            "Epoch [10/50], Train Loss: 0.09820050366130877, Train Error: 3.251028806584362%\n",
            "Epoch [11/50], Train Loss: 0.09677583270234826, Train Error: 3.246913580246914%\n",
            "Epoch [12/50], Train Loss: 0.09553816542029381, Train Error: 3.1193415637860085%\n",
            "Epoch [13/50], Train Loss: 0.09564301072968623, Train Error: 3.139917695473251%\n",
            "Epoch [14/50], Train Loss: 0.09386362330627784, Train Error: 3.176954732510288%\n",
            "Epoch [15/50], Train Loss: 0.09054387563755238, Train Error: 2.9382716049382718%\n",
            "Epoch [16/50], Train Loss: 0.09011756876000651, Train Error: 2.954732510288066%\n",
            "Epoch [17/50], Train Loss: 0.08910535967092455, Train Error: 2.9053497942386834%\n",
            "Epoch [18/50], Train Loss: 0.08785775625534019, Train Error: 2.8930041152263377%\n",
            "Epoch [19/50], Train Loss: 0.08589353514459644, Train Error: 2.757201646090535%\n",
            "Epoch [20/50], Train Loss: 0.08359974994642254, Train Error: 2.633744855967078%\n",
            "Epoch [21/50], Train Loss: 0.08330044778815084, Train Error: 2.6707818930041154%\n",
            "Epoch [22/50], Train Loss: 0.08319863963642238, Train Error: 2.6378600823045266%\n",
            "Epoch [23/50], Train Loss: 0.08120933151846069, Train Error: 2.6378600823045266%\n",
            "Epoch [24/50], Train Loss: 0.08318248852014297, Train Error: 2.7818930041152266%\n",
            "Epoch [25/50], Train Loss: 0.07771450101317447, Train Error: 2.382716049382716%\n",
            "Epoch [26/50], Train Loss: 0.07788322844623048, Train Error: 2.5596707818930042%\n",
            "Epoch [27/50], Train Loss: 0.07773530343536923, Train Error: 2.460905349794239%\n",
            "Epoch [28/50], Train Loss: 0.07730823075069199, Train Error: 2.477366255144033%\n",
            "Epoch [29/50], Train Loss: 0.07529535145609957, Train Error: 2.3703703703703702%\n",
            "Epoch [30/50], Train Loss: 0.07457711600533729, Train Error: 2.411522633744856%\n",
            "Epoch [31/50], Train Loss: 0.07334479235664562, Train Error: 2.279835390946502%\n",
            "Epoch [32/50], Train Loss: 0.07505973480549859, Train Error: 2.4444444444444446%\n",
            "Epoch [33/50], Train Loss: 0.07250632425609194, Train Error: 2.325102880658436%\n",
            "Epoch [34/50], Train Loss: 0.07144777476174351, Train Error: 2.2098765432098766%\n",
            "Epoch [35/50], Train Loss: 0.07077010388804193, Train Error: 2.1275720164609053%\n",
            "Epoch [36/50], Train Loss: 0.07039666573666496, Train Error: 2.1275720164609053%\n",
            "Epoch [37/50], Train Loss: 0.06955013951493634, Train Error: 2.1604938271604937%\n",
            "Epoch [38/50], Train Loss: 0.06854123560527776, Train Error: 2.111111111111111%\n",
            "Epoch [39/50], Train Loss: 0.0691365715021214, Train Error: 2.139917695473251%\n",
            "Epoch [40/50], Train Loss: 0.06631619057414953, Train Error: 1.97119341563786%\n",
            "Epoch [41/50], Train Loss: 0.06712951514486667, Train Error: 2.111111111111111%\n",
            "Epoch [42/50], Train Loss: 0.06753975641580276, Train Error: 2.0864197530864197%\n",
            "Epoch [43/50], Train Loss: 0.06468175000238995, Train Error: 1.934156378600823%\n",
            "Epoch [44/50], Train Loss: 0.06597222537124231, Train Error: 2.008230452674897%\n",
            "Epoch [45/50], Train Loss: 0.06391157439633928, Train Error: 1.876543209876543%\n",
            "Epoch [46/50], Train Loss: 0.06466008614610742, Train Error: 1.9465020576131686%\n",
            "Epoch [47/50], Train Loss: 0.0630203223782649, Train Error: 1.7613168724279835%\n",
            "Epoch [48/50], Train Loss: 0.06235990363353319, Train Error: 1.728395061728395%\n",
            "Epoch [49/50], Train Loss: 0.06272537313003108, Train Error: 1.8024691358024691%\n",
            "Epoch [50/50], Train Loss: 0.061161045105859575, Train Error: 1.765432098765432%\n"
          ]
        }
      ],
      "source": [
        "def train_model(model, criterion, optimizer, device, num_epochs=50):\n",
        "    model.to(device)  # Move the model to the device outside the loop\n",
        "    for epoch in range(num_epochs):\n",
        "        running_loss = 0\n",
        "        errorr = 0\n",
        "        for inputs, labels in train_loader:\n",
        "            inputs, labels = inputs.to(device), labels.to(device)  # Move inputs and labels to device\n",
        "            # print(f\"Inputs size from train_loader: {inputs.size()}\")  # Print sizes for debugging\n",
        "            # print(f\"Labels size from train_loader: {labels.size()}\")\n",
        "            optimizer.zero_grad()\n",
        "            outputs = model(inputs)\n",
        "            # print(f\"Output Tensor size from Model: {outputs.size()}\")\n",
        "            _, predicted = torch.max(outputs, 1)\n",
        "            _, labels_indices = torch.max(labels, 1)  # Convert one-hot labels to indices\n",
        "            errorr += (predicted != labels_indices).sum().item()\n",
        "\n",
        "            loss = criterion(outputs, labels)\n",
        "            loss.backward()\n",
        "            optimizer.step()\n",
        "            running_loss += loss.item() * inputs.size(0)\n",
        "        epoch_loss = running_loss / len(train_loader.dataset)\n",
        "        scheduler.step()\n",
        "        print(f\"Epoch [{epoch+1}/{num_epochs}], Train Loss: {epoch_loss}, Train Error: {(errorr/len(train_loader.dataset))*100}%\")\n",
        "        # Learnig rate:{scheduler.get_last_lr()}\n",
        "\n",
        "# Call the function to train the model\n",
        "train_model(model=model, criterion=criterion, optimizer=optimizer, device=device)"
      ]
    },
    {
      "cell_type": "code",
      "execution_count": 29,
      "metadata": {
        "id": "EfyGJXaSnGaT",
        "colab": {
          "base_uri": "https://localhost:8080/"
        },
        "outputId": "f63a161a-4e8d-4fc4-861f-e53ee68442b9"
      },
      "outputs": [
        {
          "output_type": "stream",
          "name": "stdout",
          "text": [
            "Total accurate predictions: 2441 out of 2700\n",
            "Accuracy on test set: 0.9041\n",
            "Test Error: 9.592592592592593%\n"
          ]
        }
      ],
      "source": [
        "def test_model(model, test_loader):\n",
        "    model.eval()  # Set the model to evaluation mode\n",
        "    correct = 0\n",
        "    total = 0\n",
        "    test_labels,test_outputs = [],[]\n",
        "    with torch.no_grad():\n",
        "        for inputs, labels in test_loader:\n",
        "          inputs, labels = inputs.to(device), labels.to(device)\n",
        "          outputs = model(inputs)\n",
        "          _, predicted = torch.max(outputs, 1)\n",
        "          _, labels_indices = torch.max(labels, 1)  # Convert one-hot labels to indices\n",
        "          test_labels += [a.cpu().tolist() for a in labels_indices]\n",
        "          test_outputs += [b.cpu().tolist() for b in predicted]\n",
        "          total += labels.size(0)\n",
        "          correct += (predicted == labels_indices).sum().item()\n",
        "    accuracy = correct / total\n",
        "    print(f\"Total accurate predictions: {correct} out of {total}\")\n",
        "    print(f\"Accuracy on test set: {accuracy:.4f}\")\n",
        "    print(f\"Test Error: {((total-correct)/total)*100}%\")\n",
        "    return test_labels,test_outputs\n",
        "\n",
        "test_labels,test_outputs = test_model(model=model,test_loader=test_loader)\n",
        "\n",
        "# Save the model\n",
        "torch.save(model.state_dict(), 'code/asl_cnn_model.pth')"
      ]
    },
    {
      "cell_type": "code",
      "source": [
        "!pip install -U scikit-learn"
      ],
      "metadata": {
        "id": "b0e5OiWEpeWt"
      },
      "execution_count": null,
      "outputs": []
    },
    {
      "cell_type": "code",
      "source": [
        "def num_to_char(array_data):\n",
        "  lables = \"ABCDEFGHIJKLMNOPQRSTUVWXYZ\"\n",
        "  return [lables[a] if a !=26 else \"NONE\" for a in array_data]\n",
        "\n"
      ],
      "metadata": {
        "collapsed": true,
        "id": "rPQE45v84ZcO"
      },
      "execution_count": null,
      "outputs": []
    },
    {
      "cell_type": "code",
      "source": [
        "from sklearn.metrics import confusion_matrix\n",
        "import seaborn as sn\n",
        "import matplotlib.pyplot as plt\n",
        "\n",
        "cm = confusion_matrix(test_labels,test_outputs)\n",
        "label_list = list(\"ABCDEFGHIJKLMNOPQRSTUVWXYZ\")+ [\"NA\"]\n",
        "plt.figure(figsize=(15, 9))\n",
        "heatmap = sn.heatmap(cm,\n",
        "           vmax = 6,\n",
        "           annot=True,\n",
        "           fmt=\"d\",\n",
        "           xticklabels=label_list,\n",
        "           yticklabels = label_list\n",
        "\n",
        "           )\n",
        "heatmap.tick_params(top=True, bottom=True, left=True, right=True)\n",
        "# Set labels and title\n",
        "plt.ylabel('Prediction')\n",
        "plt.xlabel('Actual')\n",
        "plt.title('Confusion Matrix', fontsize=17)\n",
        "plt.savefig(\"code/static/confusion_matrix.png\")\n",
        "plt.show()"
      ],
      "metadata": {
        "id": "W-VLNDPNmy1m",
        "outputId": "776d11da-18fb-472a-9681-c8e7dddbba99",
        "colab": {
          "base_uri": "https://localhost:8080/",
          "height": 800
        }
      },
      "execution_count": 17,
      "outputs": [
        {
          "output_type": "display_data",
          "data": {
            "text/plain": [
              "<Figure size 1500x900 with 2 Axes>"
            ],
            "image/png": "[encoded data removed]"
          },
          "metadata": {}
        }
      ]
    },
    {
      "cell_type": "code",
      "source": [
        "from sklearn.metrics import classification_report\n",
        "\n",
        "print(classification_report(test_labels,test_outputs))"
      ],
      "metadata": {
        "colab": {
          "base_uri": "https://localhost:8080/"
        },
        "id": "Vodc8WlBV4Ze",
        "outputId": "1e4ffbeb-4d14-4c4a-c0fb-66335ea675d6"
      },
      "execution_count": 18,
      "outputs": [
        {
          "output_type": "stream",
          "name": "stdout",
          "text": [
            "              precision    recall  f1-score   support\n",
            "\n",
            "           0       0.97      0.92      0.94       100\n",
            "           1       0.94      0.98      0.96       100\n",
            "           2       0.95      0.99      0.97       100\n",
            "           3       0.95      0.99      0.97       100\n",
            "           4       0.97      0.95      0.96       100\n",
            "           5       0.96      1.00      0.98       100\n",
            "           6       0.97      0.97      0.97       100\n",
            "           7       0.98      0.97      0.97       100\n",
            "           8       0.99      1.00      1.00       100\n",
            "           9       0.91      0.96      0.94       100\n",
            "          10       0.95      0.98      0.97       100\n",
            "          11       0.99      0.95      0.97       100\n",
            "          12       0.91      0.85      0.88       100\n",
            "          13       0.88      0.97      0.92       100\n",
            "          14       0.99      0.95      0.97       100\n",
            "          15       0.91      0.92      0.92       100\n",
            "          16       0.87      0.85      0.86       100\n",
            "          17       0.95      0.96      0.96       100\n",
            "          18       0.99      0.93      0.96       100\n",
            "          19       0.96      0.98      0.97       100\n",
            "          20       0.96      0.95      0.95       100\n",
            "          21       0.97      0.89      0.93       100\n",
            "          22       0.97      0.95      0.96       100\n",
            "          23       0.97      0.97      0.97       100\n",
            "          24       0.94      0.99      0.97       100\n",
            "          25       0.94      0.92      0.93       100\n",
            "          26       0.94      0.94      0.94       100\n",
            "\n",
            "    accuracy                           0.95      2700\n",
            "   macro avg       0.95      0.95      0.95      2700\n",
            "weighted avg       0.95      0.95      0.95      2700\n",
            "\n"
          ]
        }
      ]
    },
    {
      "cell_type": "code",
      "execution_count": 19,
      "metadata": {
        "colab": {
          "base_uri": "https://localhost:8080/"
        },
        "id": "oBEF_VHeJGt0",
        "outputId": "4eeee22e-a230-4843-e83e-b981ed2e90c7"
      },
      "outputs": [
        {
          "output_type": "execute_result",
          "data": {
            "text/plain": [
              "ConvNet(\n",
              "  (conv1): Conv2d(3, 27, kernel_size=(5, 5), stride=(1, 1), padding=(2, 2))\n",
              "  (pool): MaxPool2d(kernel_size=4, stride=4, padding=0, dilation=1, ceil_mode=False)\n",
              "  (conv2): Conv2d(27, 27, kernel_size=(5, 5), stride=(1, 1), padding=(2, 2))\n",
              "  (pool2): MaxPool2d(kernel_size=2, stride=2, padding=0, dilation=1, ceil_mode=False)\n",
              "  (fc1): Linear(in_features=3888, out_features=27, bias=True)\n",
              ")"
            ]
          },
          "metadata": {},
          "execution_count": 19
        }
      ],
      "source": [
        "model.load_state_dict(torch.load('code/static/asl_cnn_model.pth'))\n",
        "model.eval()\n"
      ]
    }
  ],
  "metadata": {
    "accelerator": "GPU",
    "colab": {
      "gpuType": "T4",
      "provenance": [],
      "include_colab_link": true
    },
    "kernelspec": {
      "display_name": "Python 3",
      "name": "python3"
    },
    "language_info": {
      "name": "python"
    }
  },
  "nbformat": 4,
  "nbformat_minor": 0
}