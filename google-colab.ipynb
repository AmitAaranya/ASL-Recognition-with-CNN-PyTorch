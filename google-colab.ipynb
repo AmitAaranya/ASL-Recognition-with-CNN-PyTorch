{
  "cells": [
    {
      "cell_type": "markdown",
      "metadata": {
        "id": "view-in-github",
        "colab_type": "text"
      },
      "source": [
        "<a href=\"https://colab.research.google.com/github/AmitAaranya/ASL-Recognition-with-CNN-PyTorch/blob/main/google-colab.ipynb\" target=\"_parent\"><img src=\"https://colab.research.google.com/assets/colab-badge.svg\" alt=\"Open In Colab\"/></a>"
      ]
    },
    {
      "cell_type": "markdown",
      "metadata": {
        "id": "s-y-mBcJqaxY"
      },
      "source": [
        "# Clone GitHub repo\n",
        "**URL:** https://github.com/AmitAaranya/ASL-Recognition-with-Deep-Learning-PyTorch"
      ]
    },
    {
      "cell_type": "code",
      "execution_count": 1,
      "metadata": {
        "colab": {
          "base_uri": "https://localhost:8080/"
        },
        "id": "EI2B9fs6dZNs",
        "outputId": "fbdb305c-2d96-4915-81fa-8421e3889353"
      },
      "outputs": [
        {
          "output_type": "stream",
          "name": "stdout",
          "text": [
            "Cloning into './code'...\n",
            "remote: Enumerating objects: 71, done.\u001b[K\n",
            "remote: Counting objects: 100% (71/71), done.\u001b[K\n",
            "remote: Compressing objects: 100% (50/50), done.\u001b[K\n",
            "remote: Total 71 (delta 24), reused 50 (delta 12), pack-reused 0\u001b[K\n",
            "Receiving objects: 100% (71/71), 1.79 MiB | 24.50 MiB/s, done.\n",
            "Resolving deltas: 100% (24/24), done.\n"
          ]
        }
      ],
      "source": [
        "!git clone https://github.com/AmitAaranya/ASL-Recognition-with-Deep-Learning-PyTorch.git ./code/"
      ]
    },
    {
      "cell_type": "code",
      "source": [
        "!git config --global user.email \"amitaaranya@gmail.com\"\n",
        "!git config --global user.name \"AMIT\""
      ],
      "metadata": {
        "id": "n-t-2sWVOEnf"
      },
      "execution_count": 39,
      "outputs": []
    },
    {
      "cell_type": "code",
      "execution_count": 40,
      "metadata": {
        "colab": {
          "base_uri": "https://localhost:8080/"
        },
        "id": "zhpnvxWbgTRr",
        "outputId": "b4329ba3-a216-40d6-d5d9-d11d3232f71b"
      },
      "outputs": [
        {
          "output_type": "stream",
          "name": "stdout",
          "text": [
            "On branch main\n",
            "Your branch is up to date with 'origin/main'.\n",
            "\n",
            "Changes not staged for commit:\n",
            "  (use \"git add/rm <file>...\" to update what will be committed)\n",
            "  (use \"git restore <file>...\" to discard changes in working directory)\n",
            "\t\u001b[31mdeleted:    .gitignore\u001b[m\n",
            "\t\u001b[31mdeleted:    README.md\u001b[m\n",
            "\t\u001b[31mdeleted:    asl-image-labels.png\u001b[m\n",
            "\t\u001b[31mdeleted:    data-set-distribution.png\u001b[m\n",
            "\t\u001b[31mdeleted:    data_loader.py\u001b[m\n",
            "\t\u001b[31mdeleted:    google-colab.ipynb\u001b[m\n",
            "\t\u001b[31mdeleted:    notebook.ipynb\u001b[m\n",
            "\t\u001b[31mdeleted:    requirements.txt\u001b[m\n",
            "\n",
            "Untracked files:\n",
            "  (use \"git add <file>...\" to include in what will be committed)\n",
            "\t\u001b[31m.config/\u001b[m\n",
            "\t\u001b[31masl_cnn_model.pth\u001b[m\n",
            "\t\u001b[31mcode/\u001b[m\n",
            "\t\u001b[31mdatasets/\u001b[m\n",
            "\t\u001b[31msample_data/\u001b[m\n",
            "\t\u001b[31msynthetic-asl-alphabet.zip\u001b[m\n",
            "\n",
            "no changes added to commit (use \"git add\" and/or \"git commit -a\")\n"
          ]
        }
      ],
      "source": [
        "!git --git-dir=./code/.git commit -m \"Model save\""
      ]
    },
    {
      "cell_type": "code",
      "execution_count": 3,
      "metadata": {
        "id": "-BRc3NMmk0YI"
      },
      "outputs": [],
      "source": [
        "## Add the folder to system path, so we can import file directly\n",
        "import sys\n",
        "sys.path.append('/content/code')"
      ]
    },
    {
      "cell_type": "code",
      "execution_count": null,
      "metadata": {
        "id": "TTGL6GNs0aD0"
      },
      "outputs": [],
      "source": [
        "!pip install -r code/requirements.txt > /dev/null"
      ]
    },
    {
      "cell_type": "code",
      "source": [
        "!pip install kaggle"
      ],
      "metadata": {
        "id": "rnJspfI8Gtrh",
        "outputId": "d3a06a92-1b9c-491b-8343-f2bfeb1ab836",
        "colab": {
          "base_uri": "https://localhost:8080/"
        }
      },
      "execution_count": 8,
      "outputs": [
        {
          "output_type": "stream",
          "name": "stdout",
          "text": [
            "Requirement already satisfied: kaggle in /usr/local/lib/python3.10/dist-packages (1.5.16)\n",
            "Requirement already satisfied: six>=1.10 in /usr/local/lib/python3.10/dist-packages (from kaggle) (1.16.0)\n",
            "Requirement already satisfied: certifi in /usr/local/lib/python3.10/dist-packages (from kaggle) (2024.2.2)\n",
            "Requirement already satisfied: python-dateutil in /usr/local/lib/python3.10/dist-packages (from kaggle) (2.8.2)\n",
            "Requirement already satisfied: requests in /usr/local/lib/python3.10/dist-packages (from kaggle) (2.31.0)\n",
            "Requirement already satisfied: tqdm in /usr/local/lib/python3.10/dist-packages (from kaggle) (4.66.2)\n",
            "Requirement already satisfied: python-slugify in /usr/local/lib/python3.10/dist-packages (from kaggle) (8.0.4)\n",
            "Requirement already satisfied: urllib3 in /usr/local/lib/python3.10/dist-packages (from kaggle) (2.0.7)\n",
            "Requirement already satisfied: bleach in /usr/local/lib/python3.10/dist-packages (from kaggle) (6.1.0)\n",
            "Requirement already satisfied: webencodings in /usr/local/lib/python3.10/dist-packages (from bleach->kaggle) (0.5.1)\n",
            "Requirement already satisfied: text-unidecode>=1.3 in /usr/local/lib/python3.10/dist-packages (from python-slugify->kaggle) (1.3)\n",
            "Requirement already satisfied: charset-normalizer<4,>=2 in /usr/local/lib/python3.10/dist-packages (from requests->kaggle) (3.3.2)\n",
            "Requirement already satisfied: idna<4,>=2.5 in /usr/local/lib/python3.10/dist-packages (from requests->kaggle) (3.7)\n"
          ]
        }
      ]
    },
    {
      "cell_type": "markdown",
      "metadata": {
        "id": "28879DrVqA5c"
      },
      "source": [
        "# Load the ASL Image Data\n",
        "**URL:** https://www.kaggle.com/datasets/lexset/synthetic-asl-alphabet\n"
      ]
    },
    {
      "cell_type": "code",
      "execution_count": 10,
      "metadata": {
        "id": "qdwPHrcNev3I"
      },
      "outputs": [],
      "source": [
        "!echo \"{\\\"username\\\":\\\"amitaaranya\\\",\\\"key\\\":\\\"e8845441bb41bfd733339ef7c8f50fa4\\\"}\" > /root/.kaggle/kaggle.json"
      ]
    },
    {
      "cell_type": "code",
      "execution_count": 11,
      "metadata": {
        "colab": {
          "base_uri": "https://localhost:8080/"
        },
        "id": "AJGYtwHBc12L",
        "outputId": "87c41016-6ca7-4423-acde-f259d83520fc"
      },
      "outputs": [
        {
          "output_type": "stream",
          "name": "stdout",
          "text": [
            "Warning: Your Kaggle API key is readable by other users on this system! To fix this, you can run 'chmod 600 /root/.kaggle/kaggle.json'\n",
            "Downloading synthetic-asl-alphabet.zip to /content\n",
            "100% 6.58G/6.58G [06:18<00:00, 22.0MB/s]\n",
            "100% 6.58G/6.58G [06:18<00:00, 18.7MB/s]\n"
          ]
        }
      ],
      "source": [
        "!kaggle datasets download -d lexset/synthetic-asl-alphabet"
      ]
    },
    {
      "cell_type": "code",
      "execution_count": 12,
      "metadata": {
        "id": "-I9T9ZBYi9-g"
      },
      "outputs": [],
      "source": [
        "!mkdir datasets"
      ]
    },
    {
      "cell_type": "code",
      "execution_count": 13,
      "metadata": {
        "id": "dQOIq70ShFr8"
      },
      "outputs": [],
      "source": [
        "!unzip synthetic-asl-alphabet.zip -d ./datasets/ > /dev/null"
      ]
    },
    {
      "cell_type": "markdown",
      "metadata": {
        "id": "74s_T0FUrORM"
      },
      "source": [
        "# Exploratory Data Analysis(EDA)"
      ]
    },
    {
      "cell_type": "code",
      "execution_count": 14,
      "metadata": {
        "id": "CQ2rziofjOSz"
      },
      "outputs": [],
      "source": [
        "# Imports\n",
        "import torch\n",
        "import numpy as np"
      ]
    },
    {
      "cell_type": "markdown",
      "metadata": {
        "id": "Z36Bci5RrnaY"
      },
      "source": [
        "## Load Data"
      ]
    },
    {
      "cell_type": "code",
      "execution_count": 15,
      "metadata": {
        "colab": {
          "base_uri": "https://localhost:8080/"
        },
        "id": "3DiaC0e1jfUa",
        "outputId": "50923281-9e9e-4d67-8700-cdeaf9f854bb"
      },
      "outputs": [
        {
          "output_type": "stream",
          "name": "stdout",
          "text": [
            "Loading datasets:  A B Blank C D E F G H I J K L M N O P Q R S T U V W X Y Z \n",
            "\n",
            "Loading datasets:  A B Blank C D E F G H I J K L M N O P Q R S T U V W X Y Z \n",
            "\n",
            "Train dataset count: 24300 \n",
            "Test dataset count: 2700 \n"
          ]
        }
      ],
      "source": [
        "from data_loader import load_datasets\n",
        "\n",
        "size = 100\n",
        "x_train, y_train = load_datasets(size = size)\n",
        "x_test,  y_test = load_datasets(train_or_test_folder=\"Test_Alphabet\",size = size)\n",
        "\n",
        "print(f\"Train dataset count: {len(x_train)} \\nTest dataset count: {len(x_test)} \")"
      ]
    },
    {
      "cell_type": "code",
      "execution_count": 17,
      "metadata": {
        "colab": {
          "base_uri": "https://localhost:8080/"
        },
        "id": "qET4xExw38Hh",
        "outputId": "abe2f521-654d-446b-a941-3b418fac443f"
      },
      "outputs": [
        {
          "output_type": "stream",
          "name": "stdout",
          "text": [
            "cuda\n"
          ]
        }
      ],
      "source": [
        "device = torch.device(\"cuda\" if torch.cuda.is_available() else \"cpu\")\n",
        "print(device)"
      ]
    },
    {
      "cell_type": "code",
      "execution_count": 20,
      "metadata": {
        "id": "QX-Oxal_mn2K"
      },
      "outputs": [],
      "source": [
        "from data_loader import alphabet_to_num\n",
        "\n",
        "def one_hot_coding(unique_labels, data):\n",
        "    y_oh = torch.zeros(len(data),unique_labels)\n",
        "    for i, class_word in enumerate(data):\n",
        "        index = alphabet_to_num(class_word)\n",
        "        y_oh[i][index] = 1\n",
        "\n",
        "    return y_oh\n",
        "y_train,y_test = np.array(y_train),np.array(y_test)\n",
        "y_train_oh = one_hot_coding(len(np.unique(y_train)),y_train)\n",
        "y_test_oh = one_hot_coding(len(np.unique(y_train)),y_test)"
      ]
    },
    {
      "cell_type": "code",
      "execution_count": 21,
      "metadata": {
        "colab": {
          "base_uri": "https://localhost:8080/"
        },
        "id": "wUO8ydeXmrJD",
        "outputId": "362e7aba-bb9c-4522-95c0-0e8e13936158"
      },
      "outputs": [
        {
          "output_type": "execute_result",
          "data": {
            "text/plain": [
              "(torch.Size([24300, 3, 100, 100]), (24300,))"
            ]
          },
          "metadata": {},
          "execution_count": 21
        }
      ],
      "source": [
        "x_train.shape,y_train.shape"
      ]
    },
    {
      "cell_type": "code",
      "execution_count": 23,
      "metadata": {
        "id": "HuSCQSF4mzAL",
        "outputId": "60e53947-a69d-478e-f083-3cdfa61a6341",
        "colab": {
          "base_uri": "https://localhost:8080/"
        }
      },
      "outputs": [
        {
          "output_type": "stream",
          "name": "stdout",
          "text": [
            "ConvNet(\n",
            "  (conv1): Conv2d(3, 27, kernel_size=(5, 5), stride=(1, 1), padding=(2, 2))\n",
            "  (pool): MaxPool2d(kernel_size=4, stride=4, padding=0, dilation=1, ceil_mode=False)\n",
            "  (conv2): Conv2d(27, 27, kernel_size=(5, 5), stride=(1, 1), padding=(2, 2))\n",
            "  (pool2): MaxPool2d(kernel_size=4, stride=4, padding=0, dilation=1, ceil_mode=False)\n",
            "  (fc1): Linear(in_features=972, out_features=27, bias=True)\n",
            ")\n"
          ]
        }
      ],
      "source": [
        "import torch\n",
        "import torch.nn as nn\n",
        "import torch.nn.functional as F\n",
        "\n",
        "class ConvNet(nn.Module):\n",
        "    def __init__(self):\n",
        "        super(ConvNet, self).__init__()\n",
        "        # First convolutional layer\n",
        "        self.conv1 = nn.Conv2d(in_channels=3, out_channels=27, kernel_size=5, padding=2)\n",
        "        # Max pooling layer\n",
        "        self.pool = nn.MaxPool2d(kernel_size=4, stride=4)\n",
        "        # Second convolutional layer\n",
        "        self.conv2 = nn.Conv2d(in_channels=27, out_channels=27, kernel_size=5, padding=2)\n",
        "        # Another max pooling layer\n",
        "        self.pool2 = nn.MaxPool2d(kernel_size=4, stride=4)\n",
        "        # Fully connected layer\n",
        "        self.fc1 = nn.Linear(27 * 6 * 6, 27)  # 3x3 is the size after two max pooling layers\n",
        "\n",
        "    def forward(self, x):\n",
        "        x = F.relu(self.conv1(x))\n",
        "        x = self.pool(x)\n",
        "        x = F.relu(self.conv2(x))\n",
        "        x = self.pool2(x)\n",
        "        x = x.view(-1, 27 * 6 * 6)  # Flatten the output of conv2 layer\n",
        "        x = self.fc1(x)\n",
        "        return x\n",
        "\n",
        "# Instantiate the model\n",
        "model = ConvNet()\n",
        "\n",
        "# Print the model architecture\n",
        "print(model)"
      ]
    },
    {
      "cell_type": "code",
      "execution_count": 28,
      "metadata": {
        "colab": {
          "base_uri": "https://localhost:8080/"
        },
        "id": "rnp3kmY9m9zZ",
        "outputId": "de0ee776-d737-4a7e-8678-90f94bc98c56"
      },
      "outputs": [
        {
          "output_type": "stream",
          "name": "stderr",
          "text": [
            "<ipython-input-28-aa0326395a39>:11: UserWarning: To copy construct from a tensor, it is recommended to use sourceTensor.clone().detach() or sourceTensor.clone().detach().requires_grad_(True), rather than torch.tensor(sourceTensor).\n",
            "  x_train_tensor = torch.tensor(x_train, dtype=torch.float32).to(device)\n",
            "<ipython-input-28-aa0326395a39>:12: UserWarning: To copy construct from a tensor, it is recommended to use sourceTensor.clone().detach() or sourceTensor.clone().detach().requires_grad_(True), rather than torch.tensor(sourceTensor).\n",
            "  y_train_oh_tensor = torch.tensor(y_train_oh, dtype=torch.float32).to(device)\n",
            "<ipython-input-28-aa0326395a39>:13: UserWarning: To copy construct from a tensor, it is recommended to use sourceTensor.clone().detach() or sourceTensor.clone().detach().requires_grad_(True), rather than torch.tensor(sourceTensor).\n",
            "  x_test_tensor = torch.tensor(x_test, dtype=torch.float32).to(device)\n",
            "<ipython-input-28-aa0326395a39>:14: UserWarning: To copy construct from a tensor, it is recommended to use sourceTensor.clone().detach() or sourceTensor.clone().detach().requires_grad_(True), rather than torch.tensor(sourceTensor).\n",
            "  y_test_oh_tensor = torch.tensor(y_test_oh, dtype=torch.float32).to(device)\n"
          ]
        }
      ],
      "source": [
        "import torch.nn as nn\n",
        "from torch.utils.data import TensorDataset, DataLoader\n",
        "import torch.optim as optim\n",
        "from torch.optim.lr_scheduler import StepLR\n",
        "\n",
        "criterion = nn.CrossEntropyLoss()\n",
        "optimizer = optim.RMSprop(model.parameters(),lr=0.001)\n",
        "scheduler = StepLR(optimizer, step_size=5, gamma=0.5)\n",
        "batch_size = 32\n",
        "\n",
        "x_train_tensor = torch.tensor(x_train, dtype=torch.float32).to(device)\n",
        "y_train_oh_tensor = torch.tensor(y_train_oh, dtype=torch.float32).to(device)\n",
        "x_test_tensor = torch.tensor(x_test, dtype=torch.float32).to(device)\n",
        "y_test_oh_tensor = torch.tensor(y_test_oh, dtype=torch.float32).to(device)\n",
        "\n",
        "train_loader = DataLoader(TensorDataset(x_train_tensor,y_train_oh_tensor),\n",
        "                          batch_size=batch_size, shuffle=True)\n",
        "test_loader = DataLoader(TensorDataset(x_test_tensor,y_test_oh_tensor),\n",
        "                          batch_size=batch_size)"
      ]
    },
    {
      "cell_type": "code",
      "execution_count": 29,
      "metadata": {
        "colab": {
          "base_uri": "https://localhost:8080/"
        },
        "id": "s89S3I9pSTDa",
        "outputId": "80dc6b7a-3bc5-45df-af2c-0c8dffb82a27"
      },
      "outputs": [
        {
          "output_type": "execute_result",
          "data": {
            "text/plain": [
              "(24300, 2700)"
            ]
          },
          "metadata": {},
          "execution_count": 29
        }
      ],
      "source": [
        "len(train_loader.dataset),len(test_loader.dataset)"
      ]
    },
    {
      "cell_type": "code",
      "execution_count": 30,
      "metadata": {
        "colab": {
          "base_uri": "https://localhost:8080/"
        },
        "id": "yiinmgBdRos3",
        "outputId": "8decf40b-dce0-41be-9384-e9760676338d"
      },
      "outputs": [
        {
          "output_type": "stream",
          "name": "stdout",
          "text": [
            "32\n"
          ]
        }
      ],
      "source": [
        "print(train_loader.batch_size)"
      ]
    },
    {
      "cell_type": "markdown",
      "metadata": {
        "id": "-H7dH-fvrreq"
      },
      "source": [
        "## Define CNN model"
      ]
    },
    {
      "cell_type": "code",
      "execution_count": 43,
      "metadata": {
        "colab": {
          "base_uri": "https://localhost:8080/"
        },
        "id": "8fS6tCZinAwJ",
        "outputId": "0499af6e-50d8-4bd6-f313-24b9dc5aa05e"
      },
      "outputs": [
        {
          "output_type": "stream",
          "name": "stdout",
          "text": [
            "Epoch [1/100], Train Loss: 0.003812497904746498\n",
            "Epoch [2/100], Train Loss: 0.0038124978717861105\n",
            "Epoch [3/100], Train Loss: 0.003812497898671822\n",
            "Epoch [4/100], Train Loss: 0.003812497882019161\n",
            "Epoch [5/100], Train Loss: 0.003812497907184992\n",
            "Epoch [6/100], Train Loss: 0.0038124978973879\n",
            "Epoch [7/100], Train Loss: 0.0038124979088282203\n",
            "Epoch [8/100], Train Loss: 0.0038124979221656795\n",
            "Epoch [9/100], Train Loss: 0.0038124978770128232\n",
            "Epoch [10/100], Train Loss: 0.0038124978970429657\n",
            "Epoch [11/100], Train Loss: 0.003812497903385924\n",
            "Epoch [12/100], Train Loss: 0.003812497896525564\n",
            "Epoch [13/100], Train Loss: 0.0038124979197319765\n",
            "Epoch [14/100], Train Loss: 0.0038124978849127765\n",
            "Epoch [15/100], Train Loss: 0.0038124979095085078\n",
            "Epoch [16/100], Train Loss: 0.003812497902375075\n",
            "Epoch [17/100], Train Loss: 0.0038124978955099242\n",
            "Epoch [18/100], Train Loss: 0.0038124978991700607\n",
            "Epoch [19/100], Train Loss: 0.0038124978777841346\n",
            "Epoch [20/100], Train Loss: 0.0038124978869823823\n",
            "Epoch [21/100], Train Loss: 0.003812497899697043\n",
            "Epoch [22/100], Train Loss: 0.0038124979016995785\n",
            "Epoch [23/100], Train Loss: 0.0038124979038458365\n",
            "Epoch [24/100], Train Loss: 0.0038124978905275404\n",
            "Epoch [25/100], Train Loss: 0.0038124979075826243\n",
            "Epoch [26/100], Train Loss: 0.003812497890201769\n",
            "Epoch [27/100], Train Loss: 0.003812497892846265\n",
            "Epoch [28/100], Train Loss: 0.003812497926113261\n",
            "Epoch [29/100], Train Loss: 0.0038124979114918796\n",
            "Epoch [30/100], Train Loss: 0.003812497882038324\n",
            "Epoch [31/100], Train Loss: 0.0038124979134848335\n",
            "Epoch [32/100], Train Loss: 0.0038124979068259847\n",
            "Epoch [33/100], Train Loss: 0.0038124979033116674\n",
            "Epoch [34/100], Train Loss: 0.0038124978890160576\n",
            "Epoch [35/100], Train Loss: 0.0038124978891454077\n",
            "Epoch [36/100], Train Loss: 0.0038124979083922618\n",
            "Epoch [37/100], Train Loss: 0.003812497891916859\n",
            "Epoch [38/100], Train Loss: 0.003812497887644704\n",
            "Epoch [39/100], Train Loss: 0.003812497913331529\n",
            "Epoch [40/100], Train Loss: 0.0038124978969471504\n",
            "Epoch [41/100], Train Loss: 0.00381249790202535\n",
            "Epoch [42/100], Train Loss: 0.003812497901277992\n",
            "Epoch [43/100], Train Loss: 0.0038124978934786446\n",
            "Epoch [44/100], Train Loss: 0.0038124978970621288\n",
            "Epoch [45/100], Train Loss: 0.003812497885583482\n",
            "Epoch [46/100], Train Loss: 0.003812497882623994\n",
            "Epoch [47/100], Train Loss: 0.0038124979010576176\n",
            "Epoch [48/100], Train Loss: 0.0038124978714795025\n",
            "Epoch [49/100], Train Loss: 0.00381249787826321\n",
            "Epoch [50/100], Train Loss: 0.00381249788976102\n",
            "Epoch [51/100], Train Loss: 0.0038124978961710486\n",
            "Epoch [52/100], Train Loss: 0.003812497907247272\n",
            "Epoch [53/100], Train Loss: 0.00381249790984386\n",
            "Epoch [54/100], Train Loss: 0.0038124979027535444\n",
            "Epoch [55/100], Train Loss: 0.003812497906739452\n",
            "Epoch [56/100], Train Loss: 0.0038124979053597145\n",
            "Epoch [57/100], Train Loss: 0.003812497905992094\n",
            "Epoch [58/100], Train Loss: 0.0038124979002431892\n",
            "Epoch [59/100], Train Loss: 0.003812497898844289\n",
            "Epoch [60/100], Train Loss: 0.003812497907953908\n",
            "Epoch [61/100], Train Loss: 0.003812497892597146\n",
            "Epoch [62/100], Train Loss: 0.0038124978957973696\n",
            "Epoch [63/100], Train Loss: 0.0038124978987772186\n",
            "Epoch [64/100], Train Loss: 0.003812497906872395\n",
            "Epoch [65/100], Train Loss: 0.0038124979028876854\n",
            "Epoch [66/100], Train Loss: 0.003812497886738054\n",
            "Epoch [67/100], Train Loss: 0.0038124978476981996\n",
            "Epoch [68/100], Train Loss: 0.0038124979045165417\n",
            "Epoch [69/100], Train Loss: 0.003812497882057487\n",
            "Epoch [70/100], Train Loss: 0.003812497889071151\n",
            "Epoch [71/100], Train Loss: 0.0038124978819808353\n",
            "Epoch [72/100], Train Loss: 0.0038124978966980316\n",
            "Epoch [73/100], Train Loss: 0.003812497897119618\n",
            "Epoch [74/100], Train Loss: 0.003812497900070722\n",
            "Epoch [75/100], Train Loss: 0.003812497905663029\n",
            "Epoch [76/100], Train Loss: 0.003812497916474264\n",
            "Epoch [77/100], Train Loss: 0.0038124979067681963\n",
            "Epoch [78/100], Train Loss: 0.0038124979076976026\n",
            "Epoch [79/100], Train Loss: 0.0038124978989017783\n",
            "Epoch [80/100], Train Loss: 0.0038124978994000165\n",
            "Epoch [81/100], Train Loss: 0.0038124979065286588\n",
            "Epoch [82/100], Train Loss: 0.00381249790863659\n",
            "Epoch [83/100], Train Loss: 0.003812497885900271\n",
            "Epoch [84/100], Train Loss: 0.0038124979015462745\n",
            "Epoch [85/100], Train Loss: 0.003812497901967861\n",
            "Epoch [86/100], Train Loss: 0.0038124979295051146\n",
            "Epoch [87/100], Train Loss: 0.0038124978979627903\n",
            "Epoch [88/100], Train Loss: 0.003812497908425797\n",
            "Epoch [89/100], Train Loss: 0.0038124979184288913\n",
            "Epoch [90/100], Train Loss: 0.0038124979017379046\n",
            "Epoch [91/100], Train Loss: 0.0038124979130919915\n",
            "Epoch [92/100], Train Loss: 0.0038124979027918705\n",
            "Epoch [93/100], Train Loss: 0.0038124978989688488\n",
            "Epoch [94/100], Train Loss: 0.0038124978804573756\n",
            "Epoch [95/100], Train Loss: 0.003812497898346051\n",
            "Epoch [96/100], Train Loss: 0.0038124979003437954\n",
            "Epoch [97/100], Train Loss: 0.0038124978969854765\n",
            "Epoch [98/100], Train Loss: 0.0038124978999820934\n",
            "Epoch [99/100], Train Loss: 0.0038124978768164022\n",
            "Epoch [100/100], Train Loss: 0.0038124979031655495\n"
          ]
        }
      ],
      "source": [
        "def train_model(model, criterion, optimizer, device, num_epochs=100):\n",
        "    model.to(device)  # Move the model to the device outside the loop\n",
        "    for epoch in range(num_epochs):\n",
        "        running_loss = 0\n",
        "        for inputs, labels in train_loader:\n",
        "            inputs, labels = inputs.to(device), labels.to(device)  # Move inputs and labels to device\n",
        "            # print(f\"Inputs size from train_loader: {inputs.size()}\")  # Print sizes for debugging\n",
        "            # print(f\"Labels size from train_loader: {labels.size()}\")\n",
        "            optimizer.zero_grad()\n",
        "            outputs = model(inputs)\n",
        "            # print(f\"Output Tensor size from Model: {outputs.size()}\")\n",
        "            loss = criterion(outputs, labels)\n",
        "            loss.backward()\n",
        "            optimizer.step()\n",
        "            running_loss += loss.item() * inputs.size(0)\n",
        "        epoch_loss = running_loss / len(train_loader.dataset)\n",
        "        scheduler.step()\n",
        "        print(f\"Epoch [{epoch+1}/{num_epochs}], Train Loss: {epoch_loss}\")\n",
        "        # Learnig rate:{scheduler.get_last_lr()}\n",
        "\n",
        "# Call the function to train the model\n",
        "train_model(model=model, criterion=criterion, optimizer=optimizer, device=device)"
      ]
    },
    {
      "cell_type": "code",
      "execution_count": 44,
      "metadata": {
        "colab": {
          "base_uri": "https://localhost:8080/"
        },
        "id": "EfyGJXaSnGaT",
        "outputId": "06016486-2638-407d-88f6-874fb3ac984a"
      },
      "outputs": [
        {
          "output_type": "stream",
          "name": "stdout",
          "text": [
            "Total accurate predictions: 2585 out of 2700\n",
            "Accuracy on test set: 0.9574\n"
          ]
        }
      ],
      "source": [
        "def test_model(model, test_loader):\n",
        "    model.eval()  # Set the model to evaluation mode\n",
        "    correct = 0\n",
        "    total = 0\n",
        "    with torch.no_grad():\n",
        "        for inputs, labels in test_loader:\n",
        "          inputs, labels = inputs.to(device), labels.to(device)\n",
        "          outputs = model(inputs)\n",
        "          _, predicted = torch.max(outputs, 1)\n",
        "          _, labels_indices = torch.max(labels, 1)  # Convert one-hot labels to indices\n",
        "          total += labels.size(0)\n",
        "          correct += (predicted == labels_indices).sum().item()\n",
        "    accuracy = correct / total\n",
        "    print(f\"Total accurate predictions: {correct} out of {total}\")\n",
        "    print(f\"Accuracy on test set: {accuracy:.4f}\")\n",
        "\n",
        "test_model(model=model,test_loader=test_loader)\n",
        "\n",
        "# Save the model\n",
        "torch.save(model.state_dict(), 'code/asl_cnn_model.pth')"
      ]
    },
    {
      "cell_type": "code",
      "source": [
        "model.load_state_dict(torch.load('code/asl_cnn_model.pth'))\n",
        "model.eval()\n"
      ],
      "metadata": {
        "id": "oBEF_VHeJGt0",
        "outputId": "398323b9-f970-4b1f-deb7-e95f63b682b7",
        "colab": {
          "base_uri": "https://localhost:8080/"
        }
      },
      "execution_count": 45,
      "outputs": [
        {
          "output_type": "execute_result",
          "data": {
            "text/plain": [
              "ConvNet(\n",
              "  (conv1): Conv2d(3, 27, kernel_size=(5, 5), stride=(1, 1), padding=(2, 2))\n",
              "  (pool): MaxPool2d(kernel_size=4, stride=4, padding=0, dilation=1, ceil_mode=False)\n",
              "  (conv2): Conv2d(27, 27, kernel_size=(5, 5), stride=(1, 1), padding=(2, 2))\n",
              "  (pool2): MaxPool2d(kernel_size=4, stride=4, padding=0, dilation=1, ceil_mode=False)\n",
              "  (fc1): Linear(in_features=972, out_features=27, bias=True)\n",
              ")"
            ]
          },
          "metadata": {},
          "execution_count": 45
        }
      ]
    }
  ],
  "metadata": {
    "accelerator": "GPU",
    "colab": {
      "gpuType": "T4",
      "provenance": [],
      "include_colab_link": true
    },
    "kernelspec": {
      "display_name": "Python 3",
      "name": "python3"
    },
    "language_info": {
      "name": "python"
    }
  },
  "nbformat": 4,
  "nbformat_minor": 0
}